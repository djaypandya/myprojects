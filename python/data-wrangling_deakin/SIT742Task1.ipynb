{
  "nbformat": 4,
  "nbformat_minor": 0,
  "metadata": {
    "colab": {
      "name": "SIT742Task1.ipynb",
      "version": "0.3.2",
      "provenance": [],
      "collapsed_sections": [],
      "toc_visible": true
    },
    "kernelspec": {
      "display_name": "Python 3",
      "language": "python",
      "name": "python3"
    }
  },
  "cells": [
    {
      "metadata": {
        "id": "tglCZMoUxxMJ",
        "colab_type": "text"
      },
      "cell_type": "markdown",
      "source": [
        "# SIT742: Modern Data Science \n",
        "**(Assessment Task 01: Wine Rating Data Exploration)**\n",
        "\n",
        "---\n",
        "- Materials in this module include resources collected from various open-source online repositories.\n",
        "- You are free to use, change and distribute this package.\n",
        "\n",
        "Prepared by **SIT742 Teaching Team**\n",
        "\n",
        "\n",
        "---\n",
        "\n",
        "**Student Information:** Please fill your information below\n",
        "\n",
        "- Name: Dhananjay Madhukar Pandya\n",
        "- Student ID: 218202943\n",
        "- Email: dmpandya@deakin.edu.au\n",
        "\n",
        "---"
      ]
    },
    {
      "metadata": {
        "id": "4NfMOnQKxxMK",
        "colab_type": "text"
      },
      "cell_type": "markdown",
      "source": [
        "# Part 0. Data Files\n",
        "\n",
        "## 0.1 Download Data  "
      ]
    },
    {
      "metadata": {
        "id": "sCW129aZxxML",
        "colab_type": "code",
        "outputId": "f7cd42b7-9399-4e23-baba-e16de14613f4",
        "colab": {
          "base_uri": "https://localhost:8080/",
          "height": 63
        }
      },
      "cell_type": "code",
      "source": [
        "!pip install wget  "
      ],
      "execution_count": 0,
      "outputs": [
        {
          "output_type": "stream",
          "text": [
            "Requirement already satisfied: wget in /usr/local/lib/python3.6/dist-packages (3.2)\n"
          ],
          "name": "stdout"
        }
      ]
    },
    {
      "metadata": {
        "id": "Nk0MaHPsxxMQ",
        "colab_type": "code",
        "colab": {}
      },
      "cell_type": "code",
      "source": [
        "import wget\n",
        "\n",
        "link_to_data = 'https://github.com/tulip-lab/sit742/raw/master/Assessment/2019/data/wine.json'\n",
        "DataSet = wget.download(link_to_data)\n",
        "\n",
        "link_to_data = 'https://github.com/tulip-lab/sit742/raw/master/Assessment/2019/data/stopwords.txt'\n",
        "\n",
        "DataSet = wget.download(link_to_data)"
      ],
      "execution_count": 0,
      "outputs": []
    },
    {
      "metadata": {
        "id": "u5GETGQ7xxMU",
        "colab_type": "code",
        "outputId": "a4af4579-7b5f-4854-97a8-5d3e477303f5",
        "colab": {
          "base_uri": "https://localhost:8080/",
          "height": 182
        }
      },
      "cell_type": "code",
      "source": [
        "!ls"
      ],
      "execution_count": 0,
      "outputs": [
        {
          "output_type": "stream",
          "text": [
            " elevations.json\t    'stopwords (1).txt'    'wine (1).json'\n",
            " key_Shiraz.txt\t\t    'stopwords (2).txt'    'wine (2).json'\n",
            " Melbourne_bike_share.csv   'stopwords (3).txt'    'wine (3).json'\n",
            " Melbourne_bike_share.json  'stopwords (4).txt'    'wine (4).json'\n",
            " reuters_1.txt\t\t    'stopwords (5).txt'    'wine (5).json'\n",
            " reuters_2.txt\t\t     stopwords_en.txt\t    wine.json\n",
            " sample_data\t\t     stopwords.txt\n",
            " statisticByState.csv\t     top_common_words.txt\n"
          ],
          "name": "stdout"
        }
      ]
    },
    {
      "metadata": {
        "colab_type": "text",
        "id": "oNT3z7_d0E2A"
      },
      "cell_type": "markdown",
      "source": [
        "## 0.2 Load Data  "
      ]
    },
    {
      "metadata": {
        "colab_type": "code",
        "id": "iuZOT5Uc0E2B",
        "colab": {}
      },
      "cell_type": "code",
      "source": [
        "import json\n",
        "import pandas as pd\n",
        "import matplotlib.pyplot as plt"
      ],
      "execution_count": 0,
      "outputs": []
    },
    {
      "metadata": {
        "colab_type": "code",
        "id": "rykuKlUD0E2E",
        "colab": {}
      },
      "cell_type": "code",
      "source": [
        "file = 'wine.json'"
      ],
      "execution_count": 0,
      "outputs": []
    },
    {
      "metadata": {
        "colab_type": "code",
        "id": "yhSNRInw0E2F",
        "colab": {}
      },
      "cell_type": "code",
      "source": [
        "# write your code here\n",
        "\n",
        "# Read the json file and drop rows with invalid values in the attributes of \n",
        "# 'points' and 'price'.\n",
        "df = pd.read_json(file)\n",
        "df = df.dropna(subset=['points','price'])"
      ],
      "execution_count": 0,
      "outputs": []
    },
    {
      "metadata": {
        "id": "s5pA1pkZxxMk",
        "colab_type": "code",
        "outputId": "de0d9b7b-fae0-45d7-bb90-77afbb337292",
        "colab": {
          "base_uri": "https://localhost:8080/",
          "height": 357
        }
      },
      "cell_type": "code",
      "source": [
        "# View the first 5 rows of the dataframe\n",
        "df.head()"
      ],
      "execution_count": 0,
      "outputs": [
        {
          "output_type": "execute_result",
          "data": {
            "text/html": [
              "<div>\n",
              "<style scoped>\n",
              "    .dataframe tbody tr th:only-of-type {\n",
              "        vertical-align: middle;\n",
              "    }\n",
              "\n",
              "    .dataframe tbody tr th {\n",
              "        vertical-align: top;\n",
              "    }\n",
              "\n",
              "    .dataframe thead th {\n",
              "        text-align: right;\n",
              "    }\n",
              "</style>\n",
              "<table border=\"1\" class=\"dataframe\">\n",
              "  <thead>\n",
              "    <tr style=\"text-align: right;\">\n",
              "      <th></th>\n",
              "      <th>country</th>\n",
              "      <th>description</th>\n",
              "      <th>designation</th>\n",
              "      <th>points</th>\n",
              "      <th>price</th>\n",
              "      <th>province</th>\n",
              "      <th>region_1</th>\n",
              "      <th>region_2</th>\n",
              "      <th>taster_name</th>\n",
              "      <th>taster_twitter_handle</th>\n",
              "      <th>title</th>\n",
              "      <th>variety</th>\n",
              "      <th>winery</th>\n",
              "    </tr>\n",
              "  </thead>\n",
              "  <tbody>\n",
              "    <tr>\n",
              "      <th>1</th>\n",
              "      <td>Portugal</td>\n",
              "      <td>This is ripe and fruity, a wine that is smooth...</td>\n",
              "      <td>Avidagos</td>\n",
              "      <td>87</td>\n",
              "      <td>15.0</td>\n",
              "      <td>Douro</td>\n",
              "      <td>None</td>\n",
              "      <td>None</td>\n",
              "      <td>Roger Voss</td>\n",
              "      <td>@vossroger</td>\n",
              "      <td>Quinta dos Avidagos 2011 Avidagos Red (Douro)</td>\n",
              "      <td>Portuguese Red</td>\n",
              "      <td>Quinta dos Avidagos</td>\n",
              "    </tr>\n",
              "    <tr>\n",
              "      <th>2</th>\n",
              "      <td>US</td>\n",
              "      <td>Tart and snappy, the flavors of lime flesh and...</td>\n",
              "      <td>None</td>\n",
              "      <td>87</td>\n",
              "      <td>14.0</td>\n",
              "      <td>Oregon</td>\n",
              "      <td>Willamette Valley</td>\n",
              "      <td>Willamette Valley</td>\n",
              "      <td>Paul Gregutt</td>\n",
              "      <td>@paulgwine</td>\n",
              "      <td>Rainstorm 2013 Pinot Gris (Willamette Valley)</td>\n",
              "      <td>Pinot Gris</td>\n",
              "      <td>Rainstorm</td>\n",
              "    </tr>\n",
              "    <tr>\n",
              "      <th>3</th>\n",
              "      <td>US</td>\n",
              "      <td>Pineapple rind, lemon pith and orange blossom ...</td>\n",
              "      <td>Reserve Late Harvest</td>\n",
              "      <td>87</td>\n",
              "      <td>13.0</td>\n",
              "      <td>Michigan</td>\n",
              "      <td>Lake Michigan Shore</td>\n",
              "      <td>None</td>\n",
              "      <td>Alexander Peartree</td>\n",
              "      <td>None</td>\n",
              "      <td>St. Julian 2013 Reserve Late Harvest Riesling ...</td>\n",
              "      <td>Riesling</td>\n",
              "      <td>St. Julian</td>\n",
              "    </tr>\n",
              "    <tr>\n",
              "      <th>4</th>\n",
              "      <td>US</td>\n",
              "      <td>Much like the regular bottling from 2012, this...</td>\n",
              "      <td>Vintner's Reserve Wild Child Block</td>\n",
              "      <td>87</td>\n",
              "      <td>65.0</td>\n",
              "      <td>Oregon</td>\n",
              "      <td>Willamette Valley</td>\n",
              "      <td>Willamette Valley</td>\n",
              "      <td>Paul Gregutt</td>\n",
              "      <td>@paulgwine</td>\n",
              "      <td>Sweet Cheeks 2012 Vintner's Reserve Wild Child...</td>\n",
              "      <td>Pinot Noir</td>\n",
              "      <td>Sweet Cheeks</td>\n",
              "    </tr>\n",
              "    <tr>\n",
              "      <th>5</th>\n",
              "      <td>Spain</td>\n",
              "      <td>Blackberry and raspberry aromas show a typical...</td>\n",
              "      <td>Ars In Vitro</td>\n",
              "      <td>87</td>\n",
              "      <td>15.0</td>\n",
              "      <td>Northern Spain</td>\n",
              "      <td>Navarra</td>\n",
              "      <td>None</td>\n",
              "      <td>Michael Schachner</td>\n",
              "      <td>@wineschach</td>\n",
              "      <td>Tandem 2011 Ars In Vitro Tempranillo-Merlot (N...</td>\n",
              "      <td>Tempranillo-Merlot</td>\n",
              "      <td>Tandem</td>\n",
              "    </tr>\n",
              "  </tbody>\n",
              "</table>\n",
              "</div>"
            ],
            "text/plain": [
              "    country                                        description  \\\n",
              "1  Portugal  This is ripe and fruity, a wine that is smooth...   \n",
              "2        US  Tart and snappy, the flavors of lime flesh and...   \n",
              "3        US  Pineapple rind, lemon pith and orange blossom ...   \n",
              "4        US  Much like the regular bottling from 2012, this...   \n",
              "5     Spain  Blackberry and raspberry aromas show a typical...   \n",
              "\n",
              "                          designation  points  price        province  \\\n",
              "1                            Avidagos      87   15.0           Douro   \n",
              "2                                None      87   14.0          Oregon   \n",
              "3                Reserve Late Harvest      87   13.0        Michigan   \n",
              "4  Vintner's Reserve Wild Child Block      87   65.0          Oregon   \n",
              "5                        Ars In Vitro      87   15.0  Northern Spain   \n",
              "\n",
              "              region_1           region_2         taster_name  \\\n",
              "1                 None               None          Roger Voss   \n",
              "2    Willamette Valley  Willamette Valley        Paul Gregutt   \n",
              "3  Lake Michigan Shore               None  Alexander Peartree   \n",
              "4    Willamette Valley  Willamette Valley        Paul Gregutt   \n",
              "5              Navarra               None   Michael Schachner   \n",
              "\n",
              "  taster_twitter_handle                                              title  \\\n",
              "1            @vossroger      Quinta dos Avidagos 2011 Avidagos Red (Douro)   \n",
              "2           @paulgwine       Rainstorm 2013 Pinot Gris (Willamette Valley)   \n",
              "3                  None  St. Julian 2013 Reserve Late Harvest Riesling ...   \n",
              "4           @paulgwine   Sweet Cheeks 2012 Vintner's Reserve Wild Child...   \n",
              "5           @wineschach  Tandem 2011 Ars In Vitro Tempranillo-Merlot (N...   \n",
              "\n",
              "              variety               winery  \n",
              "1      Portuguese Red  Quinta dos Avidagos  \n",
              "2          Pinot Gris            Rainstorm  \n",
              "3            Riesling           St. Julian  \n",
              "4          Pinot Noir         Sweet Cheeks  \n",
              "5  Tempranillo-Merlot               Tandem  "
            ]
          },
          "metadata": {
            "tags": []
          },
          "execution_count": 184
        }
      ]
    },
    {
      "metadata": {
        "colab_type": "text",
        "id": "p-Mn2BCV0E2J"
      },
      "cell_type": "markdown",
      "source": [
        "# Part 1: numeric anaysis"
      ]
    },
    {
      "metadata": {
        "colab_type": "text",
        "id": "NnyyHM280E2J"
      },
      "cell_type": "markdown",
      "source": [
        "## 1.1 Explore the data distribution for each column."
      ]
    },
    {
      "metadata": {
        "colab_type": "code",
        "id": "XLgAFg_K0E2K",
        "scrolled": true,
        "outputId": "186da444-6f3f-4a23-c0a7-717e2caffa42",
        "colab": {
          "base_uri": "https://localhost:8080/",
          "height": 2708
        }
      },
      "cell_type": "code",
      "source": [
        "# write your code here\n",
        "# you may use functions such as describe() on each attribute\n",
        "\n",
        "# View summary descriptive measures for each column in the dataframe\n",
        "for i in df.columns:\n",
        "  print('Attribute: ' + i)\n",
        "  print('\\n')\n",
        "  print(df[i].describe())\n",
        "  print('\\n')\n",
        "\n",
        "# View histograms of numerical attributes in the dataframe\n",
        "df.hist();"
      ],
      "execution_count": 0,
      "outputs": [
        {
          "output_type": "stream",
          "text": [
            "Attribute: country\n",
            "\n",
            "\n",
            "count     120916\n",
            "unique        42\n",
            "top           US\n",
            "freq       54265\n",
            "Name: country, dtype: object\n",
            "\n",
            "\n",
            "Attribute: description\n",
            "\n",
            "\n",
            "count                                                120975\n",
            "unique                                               111567\n",
            "top       Cigar box, café au lait, and dried tobacco aro...\n",
            "freq                                                      3\n",
            "Name: description, dtype: object\n",
            "\n",
            "\n",
            "Attribute: designation\n",
            "\n",
            "\n",
            "count       86196\n",
            "unique      35776\n",
            "top       Reserve\n",
            "freq         1980\n",
            "Name: designation, dtype: object\n",
            "\n",
            "\n",
            "Attribute: points\n",
            "\n",
            "\n",
            "count    120975.000000\n",
            "mean         88.421881\n",
            "std           3.044508\n",
            "min          80.000000\n",
            "25%          86.000000\n",
            "50%          88.000000\n",
            "75%          91.000000\n",
            "max         100.000000\n",
            "Name: points, dtype: float64\n",
            "\n",
            "\n",
            "Attribute: price\n",
            "\n",
            "\n",
            "count    120975.000000\n",
            "mean         35.363389\n",
            "std          41.022218\n",
            "min           4.000000\n",
            "25%          17.000000\n",
            "50%          25.000000\n",
            "75%          42.000000\n",
            "max        3300.000000\n",
            "Name: price, dtype: float64\n",
            "\n",
            "\n",
            "Attribute: province\n",
            "\n",
            "\n",
            "count         120916\n",
            "unique           422\n",
            "top       California\n",
            "freq           36104\n",
            "Name: province, dtype: object\n",
            "\n",
            "\n",
            "Attribute: region_1\n",
            "\n",
            "\n",
            "count          101400\n",
            "unique           1204\n",
            "top       Napa Valley\n",
            "freq             4475\n",
            "Name: region_1, dtype: object\n",
            "\n",
            "\n",
            "Attribute: region_2\n",
            "\n",
            "\n",
            "count             50292\n",
            "unique               17\n",
            "top       Central Coast\n",
            "freq              10975\n",
            "Name: region_2, dtype: object\n",
            "\n",
            "\n",
            "Attribute: taster_name\n",
            "\n",
            "\n",
            "count          96479\n",
            "unique            19\n",
            "top       Roger Voss\n",
            "freq           20172\n",
            "Name: taster_name, dtype: object\n",
            "\n",
            "\n",
            "Attribute: taster_twitter_handle\n",
            "\n",
            "\n",
            "count          91559\n",
            "unique            15\n",
            "top       @vossroger\n",
            "freq           20172\n",
            "Name: taster_twitter_handle, dtype: object\n",
            "\n",
            "\n",
            "Attribute: title\n",
            "\n",
            "\n",
            "count                                                120975\n",
            "unique                                               110638\n",
            "top       Gloria Ferrer NV Sonoma Brut Sparkling (Sonoma...\n",
            "freq                                                     11\n",
            "Name: title, dtype: object\n",
            "\n",
            "\n",
            "Attribute: variety\n",
            "\n",
            "\n",
            "count         120974\n",
            "unique           697\n",
            "top       Pinot Noir\n",
            "freq           12787\n",
            "Name: variety, dtype: object\n",
            "\n",
            "\n",
            "Attribute: winery\n",
            "\n",
            "\n",
            "count         120975\n",
            "unique         15855\n",
            "top       Testarossa\n",
            "freq             217\n",
            "Name: winery, dtype: object\n",
            "\n",
            "\n"
          ],
          "name": "stdout"
        },
        {
          "output_type": "display_data",
          "data": {
            "image/png": "[encoded data removed]",
            "text/plain": [
              "<Figure size 576x396 with 2 Axes>"
            ]
          },
          "metadata": {
            "tags": []
          }
        }
      ]
    },
    {
      "metadata": {
        "colab_type": "text",
        "id": "8traKPor0E2a"
      },
      "cell_type": "markdown",
      "source": [
        "## 1.2 Find the 10 varieties of wine which receives the highest number of  reviews"
      ]
    },
    {
      "metadata": {
        "colab_type": "code",
        "id": "uTjM_Jmt0E2a",
        "scrolled": true,
        "outputId": "3b7e1c0e-4e45-4d69-fa3e-c53b2b8523ef",
        "colab": {
          "base_uri": "https://localhost:8080/",
          "height": 204
        }
      },
      "cell_type": "code",
      "source": [
        "# write your code here\n",
        "# you may use functions such as value_counts()\n",
        "\n",
        "# View top 10 largest value counts by wine varieties\n",
        "df.variety.value_counts().nlargest(10)"
      ],
      "execution_count": 0,
      "outputs": [
        {
          "output_type": "execute_result",
          "data": {
            "text/plain": [
              "Pinot Noir                  12787\n",
              "Chardonnay                  11080\n",
              "Cabernet Sauvignon           9386\n",
              "Red Blend                    8476\n",
              "Bordeaux-style Red Blend     5340\n",
              "Riesling                     4972\n",
              "Sauvignon Blanc              4783\n",
              "Syrah                        4086\n",
              "Rosé                         3262\n",
              "Merlot                       3062\n",
              "Name: variety, dtype: int64"
            ]
          },
          "metadata": {
            "tags": []
          },
          "execution_count": 186
        }
      ]
    },
    {
      "metadata": {
        "colab_type": "text",
        "id": "RtpXXUrv0E2c"
      },
      "cell_type": "markdown",
      "source": [
        "## 1.3 Find varieties of wine having the average price less than 20, with the average pointsat least 90"
      ]
    },
    {
      "metadata": {
        "colab_type": "code",
        "id": "KgdpRAfs0E2d",
        "outputId": "7ea1b4f9-262d-48ab-e5a2-1bb0a7ab12ad",
        "colab": {
          "base_uri": "https://localhost:8080/",
          "height": 297
        }
      },
      "cell_type": "code",
      "source": [
        "# write your code here\n",
        "# you may use functions such as groupby() \n",
        "\n",
        "# Group the dataset by wine variety and find any varieties with average\n",
        "# price less than 20 and average points greater than or equal to 90\n",
        "df.groupby('variety').mean()[(df.groupby('variety').mean().price < 20) & \n",
        "                             (df.groupby('variety').mean().points >= 90)\n",
        "                            ]"
      ],
      "execution_count": 0,
      "outputs": [
        {
          "output_type": "execute_result",
          "data": {
            "text/html": [
              "<div>\n",
              "<style scoped>\n",
              "    .dataframe tbody tr th:only-of-type {\n",
              "        vertical-align: middle;\n",
              "    }\n",
              "\n",
              "    .dataframe tbody tr th {\n",
              "        vertical-align: top;\n",
              "    }\n",
              "\n",
              "    .dataframe thead th {\n",
              "        text-align: right;\n",
              "    }\n",
              "</style>\n",
              "<table border=\"1\" class=\"dataframe\">\n",
              "  <thead>\n",
              "    <tr style=\"text-align: right;\">\n",
              "      <th></th>\n",
              "      <th>points</th>\n",
              "      <th>price</th>\n",
              "    </tr>\n",
              "    <tr>\n",
              "      <th>variety</th>\n",
              "      <th></th>\n",
              "      <th></th>\n",
              "    </tr>\n",
              "  </thead>\n",
              "  <tbody>\n",
              "    <tr>\n",
              "      <th>Blauburgunder</th>\n",
              "      <td>93.0</td>\n",
              "      <td>19.000000</td>\n",
              "    </tr>\n",
              "    <tr>\n",
              "      <th>Caprettone</th>\n",
              "      <td>92.0</td>\n",
              "      <td>19.000000</td>\n",
              "    </tr>\n",
              "    <tr>\n",
              "      <th>Kotsifali</th>\n",
              "      <td>92.0</td>\n",
              "      <td>13.000000</td>\n",
              "    </tr>\n",
              "    <tr>\n",
              "      <th>Ondenc</th>\n",
              "      <td>90.0</td>\n",
              "      <td>15.000000</td>\n",
              "    </tr>\n",
              "    <tr>\n",
              "      <th>Roussanne-Grenache Blanc</th>\n",
              "      <td>91.0</td>\n",
              "      <td>16.000000</td>\n",
              "    </tr>\n",
              "    <tr>\n",
              "      <th>Shiraz-Malbec</th>\n",
              "      <td>90.0</td>\n",
              "      <td>18.666667</td>\n",
              "    </tr>\n",
              "    <tr>\n",
              "      <th>Tinta Cao</th>\n",
              "      <td>90.0</td>\n",
              "      <td>14.000000</td>\n",
              "    </tr>\n",
              "  </tbody>\n",
              "</table>\n",
              "</div>"
            ],
            "text/plain": [
              "                          points      price\n",
              "variety                                    \n",
              "Blauburgunder               93.0  19.000000\n",
              "Caprettone                  92.0  19.000000\n",
              "Kotsifali                   92.0  13.000000\n",
              "Ondenc                      90.0  15.000000\n",
              "Roussanne-Grenache Blanc    91.0  16.000000\n",
              "Shiraz-Malbec               90.0  18.666667\n",
              "Tinta Cao                   90.0  14.000000"
            ]
          },
          "metadata": {
            "tags": []
          },
          "execution_count": 187
        }
      ]
    },
    {
      "metadata": {
        "colab_type": "text",
        "id": "Yi93saTG0E2i"
      },
      "cell_type": "markdown",
      "source": [
        "## 1.4 Build statistic table "
      ]
    },
    {
      "metadata": {
        "colab_type": "code",
        "id": "IPKIEonM0E2j",
        "scrolled": true,
        "colab": {}
      },
      "cell_type": "code",
      "source": [
        "# write your code here\n",
        "# you may use functions such as groupby() and round(decimals=2)\n",
        "\n",
        "# Loop through the dataframe and build a statistic table containing\n",
        "# country name, list of most occuring varieties, average taster rating,\n",
        "# and average price\n",
        "for idx,val in enumerate(df.country.unique()):\n",
        "    # If country name is not null, find how many times the highest\n",
        "    # wine variety from that country occurs in the dataset based on\n",
        "    # the country name.\n",
        "    # \n",
        "    # Otherwise, find how many times the highest wine variety from\n",
        "    # unknown countries occurs in the dataset.\n",
        "    if pd.isna(val)==False:\n",
        "        highest_value = df[df.country==val].variety.value_counts(\n",
        "                        ).nlargest(1)[0]\n",
        "    else:\n",
        "        highest_value = df[pd.isna(df.country)].variety.value_counts(\n",
        "                        ).nlargest(1)[0]\n",
        "    \n",
        "    # If index = 0 (first country in the dataset), then start creating\n",
        "    # a dataframe containing the country name and the most frequently\n",
        "    # occuring variety name. \n",
        "    # \n",
        "    # Otherwise, add to the already created dataframe, the country names and\n",
        "    # most occuring wine variety names.\n",
        "    # \n",
        "    # The most occuring variety (see previous code block) count helps find \n",
        "    # instances where there are more than one varieties with the highest count.\n",
        "    if idx==0:\n",
        "        subset_df = df[df.country==val].variety.value_counts().reset_index()\n",
        "        subset_df['country'] = val\n",
        "        subset_df = subset_df.loc[subset_df.variety==highest_value,['country',\n",
        "                                                                    'index']]\n",
        "    else:\n",
        "        new_subset_df = df[\n",
        "                           df.country==val\n",
        "                          ].variety.value_counts().reset_index()\n",
        "        new_subset_df['country'] = val\n",
        "        new_subset_df = new_subset_df.loc[new_subset_df.variety==\n",
        "                                          highest_value,['country','index']]\n",
        "        subset_df = pd.concat([subset_df,new_subset_df])\n",
        "\n",
        "# Countries are grouped together such that countries with multiple top varieties\n",
        "# appear in the same column as a list of varieties\n",
        "subset_df = subset_df.groupby('country')['index'].apply(list).reset_index()\n",
        "avg_points = [round(df[df.country==i].points.mean(),2) \n",
        "              for i in subset_df.country]\n",
        "subset_df['AvgPoint'] = avg_points\n",
        "avg_price = [round(df[df.country==i].price.mean(),2) for i in subset_df.country]\n",
        "subset_df['AvgPrice'] = avg_price\n",
        "\n",
        "# Change the column names to match the requested output\n",
        "subset_df.columns = ['Country','Variety','AvgPoint','AvgPrice']"
      ],
      "execution_count": 0,
      "outputs": []
    },
    {
      "metadata": {
        "colab_type": "code",
        "id": "JuMzX7100E2l",
        "colab": {}
      },
      "cell_type": "code",
      "source": [
        "# save your table to 'statisticByState.csv'\n",
        "subset_df.to_csv('statisticByState.csv',index=False)"
      ],
      "execution_count": 0,
      "outputs": []
    },
    {
      "metadata": {
        "id": "U1xLLuwIGbZi",
        "colab_type": "text"
      },
      "cell_type": "markdown",
      "source": [
        "### Recommendation\n",
        "\n",
        "Hotel Tuplip should source wines from Ukraine, Bosnia and Herzegovina and India\n",
        "\n",
        "### Justification\n",
        "\n",
        "Dr Bear Guts wants to source the best tasting wine at the most afforable price. Wines from these three countries have the top 3 points-to-price ratios (9.13, 6.92, and 6.77 respectively)."
      ]
    },
    {
      "metadata": {
        "colab_type": "text",
        "id": "2pM--l1C0E2n"
      },
      "cell_type": "markdown",
      "source": [
        "# Part 2. Text Analysis\n",
        "\n",
        "## 2.1 extract high requency words in description"
      ]
    },
    {
      "metadata": {
        "colab_type": "code",
        "id": "Yj_6QJv00E2o",
        "colab": {}
      },
      "cell_type": "code",
      "source": [
        "import re\n",
        "import nltk\n",
        "from nltk.tokenize import RegexpTokenizer\n",
        "from nltk.probability import *\n",
        "from itertools import chain\n",
        "#from tqdm import tqdm\n",
        "import codecs"
      ],
      "execution_count": 0,
      "outputs": []
    },
    {
      "metadata": {
        "colab_type": "code",
        "id": "dhEPsrZi0E2p",
        "colab": {}
      },
      "cell_type": "code",
      "source": [
        "# Open the stopwords.txt file and store the data as a list\n",
        "with open('stopwords.txt') as f:\n",
        "    stop_words = f.read().splitlines()\n",
        "\n",
        "# Remove any duplicate stop words from the list\n",
        "stop_words = set(stop_words)"
      ],
      "execution_count": 0,
      "outputs": []
    },
    {
      "metadata": {
        "colab_type": "code",
        "id": "G4npAbiy0E2r",
        "colab": {}
      },
      "cell_type": "code",
      "source": [
        "# write your code here\n",
        "# define your tokenize\n",
        "\n",
        "# Set up a tokenizer which can be used to create word tokens from strings\n",
        "tokenizer = RegexpTokenizer(r\"\\w+(?:[-']\\w+)?\")\n",
        "\n",
        "def remove_stop_words(list_of_words):\n",
        "    # Remove any stop words from the list that is inserted into the function.\n",
        "    # \n",
        "    # The output is a reduced list of words\n",
        "    reduced_list_of_words = [x for x in list_of_words if x not in stop_words]\n",
        "    return reduced_list_of_words\n",
        "\n",
        "# Convert to lowercase, tokenize and remove stopwords from the wine description\n",
        "df.loc[:,'description'] = df.description.str.lower().apply(lambda x: \n",
        "                                                           remove_stop_words(\n",
        "                                                               tokenizer\n",
        "                                                               .tokenize(x)\n",
        "                                                           )\n",
        "                                                          )"
      ],
      "execution_count": 0,
      "outputs": []
    },
    {
      "metadata": {
        "colab_type": "code",
        "id": "p3Wv41wU0E2v",
        "colab": {}
      },
      "cell_type": "code",
      "source": [
        "# find top common words with document frequencies > 5000\n",
        "# you may use function FreqDist() and sort()\n",
        "\n",
        "# Initiate an empty list to store the top common words\n",
        "top_common_words = []\n",
        "\n",
        "# Create dictionary containing dataframe index as the key and the tokens for\n",
        "# each document as the values\n",
        "tokenized_descriptions = pd.Series(\n",
        "                                   df.description.values,index=df.index\n",
        "                                  ).to_dict()\n",
        "\n",
        "# Extract only the unique keywords occuring in each document and add them to a\n",
        "# list of words\n",
        "# \n",
        "# Convert the list of words to frequencies. Since each word occurs only once\n",
        "# in each document, hence the term frequencies are now the document frequencies\n",
        "words = list(chain.from_iterable([set(value) \n",
        "                                  for value \n",
        "                                  in tokenized_descriptions.values()\n",
        "                                 ]\n",
        "                                )\n",
        "            )\n",
        "freq_dist = FreqDist(words)\n",
        "\n",
        "# Loop through the frequently occuring words and their frequencies to find\n",
        "# only words that occur in more than 5000 documents and add them to empty\n",
        "# list of top common words\n",
        "for word,frequency in freq_dist.items():\n",
        "  if frequency > 5000:\n",
        "    top_common_words.append(word)\n",
        "\n",
        "# Sort the list of top common words alphabetically\n",
        "top_common_words = sorted(top_common_words)"
      ],
      "execution_count": 0,
      "outputs": []
    },
    {
      "metadata": {
        "colab_type": "code",
        "id": "S_0fhtMy0E21",
        "colab": {}
      },
      "cell_type": "code",
      "source": [
        "# save your table to 'top_common_words.txt'\n",
        "\n",
        "# Open a new text file called top_common_words.txt and write the list of \n",
        "# top common words to this text file\n",
        "#\n",
        "# Each word appears on a new line\n",
        "with open('top_common_words.txt', 'w') as f:\n",
        "    for item in top_common_words:\n",
        "        f.write(\"%s\\n\" % item)"
      ],
      "execution_count": 0,
      "outputs": []
    },
    {
      "metadata": {
        "colab_type": "text",
        "id": "rItgiUiW0E22"
      },
      "cell_type": "markdown",
      "source": [
        "## 2.2 Find key words for describing Shiraz using TF-IDF"
      ]
    },
    {
      "metadata": {
        "colab_type": "code",
        "id": "k19yjNax0E23",
        "colab": {}
      },
      "cell_type": "code",
      "source": [
        "# select 'description' from 'variety' equal to  'Shiraz'\n",
        "shiraz_description = df.loc[df.variety=='Shiraz','description']"
      ],
      "execution_count": 0,
      "outputs": []
    },
    {
      "metadata": {
        "colab_type": "code",
        "id": "rJjSoPYt0E25",
        "colab": {}
      },
      "cell_type": "code",
      "source": [
        "# use TfidfVectorizer to calculate TF-IDF score\n",
        "from sklearn.feature_extraction.text import TfidfVectorizer\n",
        "\n",
        "# Join the shiraz descriptions into a single list for TF-IDF analysis\n",
        "shiraz_description=[\" \".join(desc) for desc in shiraz_description.values]\n",
        "\n",
        "# Initialize the TF-IDF Vectorizer providing the argument analyzer so that\n",
        "# the Vectorizer uses words as the feature, and the argument stop_words is \n",
        "# specified to ensure that no stop words remain in the Shiraz descriptions.\n",
        "# \n",
        "# The vectorizer is then used to fit and transform the Shiraz descriptions\n",
        "# into term-document matrix\n",
        "tfidf = TfidfVectorizer(analyzer='word', stop_words = 'english')\n",
        "scores = tfidf.fit_transform(shiraz_description)"
      ],
      "execution_count": 0,
      "outputs": []
    },
    {
      "metadata": {
        "colab_type": "code",
        "id": "f-81TMHm0E29",
        "scrolled": true,
        "colab": {}
      },
      "cell_type": "code",
      "source": [
        "# find words with TF-IDF score >0.4 and sort them\n",
        "\n",
        "# Create a dense matrix from sparse matrix\n",
        "scores_df = pd.DataFrame(scores.todense(),columns=tfidf.get_feature_names())\n",
        "\n",
        "# Initialize an empty list to store the key Shiraz words\n",
        "shiraz_keywords = []\n",
        "\n",
        "# Loop through each word (represented by each column) and add any words with\n",
        "# TF-IDF score greater than 0.4 to the list of key Shiraz words\n",
        "for i in scores_df.columns:\n",
        "    if (scores_df[i] > 0.4).any():\n",
        "        shiraz_keywords.append(i)\n",
        "\n",
        "# Sort the list of key Shiraz words alphabetically\n",
        "shiraz_keywords = sorted(shiraz_keywords)"
      ],
      "execution_count": 0,
      "outputs": []
    },
    {
      "metadata": {
        "id": "yyUU50Narc6j",
        "colab_type": "code",
        "colab": {}
      },
      "cell_type": "code",
      "source": [
        "# save your table to 'key_Shiraz.txt'\n",
        "\n",
        "# Open a new text file called key_Shiraz.txt and write the list of \n",
        "# Shiraz words that have TF-IDF score greater than 0.4 to this text file\n",
        "#\n",
        "# Each word appears on a new line\n",
        "with open('key_Shiraz.txt', 'w') as f:\n",
        "    for item in shiraz_keywords:\n",
        "        f.write(\"%s\\n\" % item)"
      ],
      "execution_count": 0,
      "outputs": []
    }
  ]
}