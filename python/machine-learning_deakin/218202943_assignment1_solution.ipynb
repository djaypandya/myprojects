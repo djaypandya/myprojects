{
 "cells": [
  {
   "cell_type": "markdown",
   "metadata": {},
   "source": [
    "----\n",
    "\n",
    "### <span style=\"color:#0b486b\">SIT744 Practical Machine Learning 4DS</span>\n"
   ]
  },
  {
   "cell_type": "markdown",
   "metadata": {},
   "source": [
    "----"
   ]
  },
  {
   "cell_type": "markdown",
   "metadata": {},
   "source": [
    "\n",
    "# <span style=\"color:#0b486b\">Assignment One: Mastering Machine Learning Process</span>\n",
    "### <span style=\"color:#0b486b\">Due: 9:00 am 20 August 2018 (Monday)</span>\n",
    "\n",
    "#### <span style=\"color:red\">Important note:</span> This is an **individual** assignment. It contributes **20%** to your final mark. Read the assignment instruction carefully."
   ]
  },
  {
   "cell_type": "markdown",
   "metadata": {},
   "source": [
    "This notebook has been prepared for your to complete Assignment 1. Some sections have been partially completed to help you get started. **The total marks for this notebook are 150 marks.** "
   ]
  },
  {
   "cell_type": "markdown",
   "metadata": {},
   "source": [
    "* Before you start, read the entire notebook carefully once to understand what you need to do. <br><br>\n",
    "\n",
    "* For each cell marked with **#YOU ARE REQUIRED TO INSERT YOUR CODES IN THIS CELL**, there will be places where you **must** supply your own codes when instructed. <br><br>\n"
   ]
  },
  {
   "cell_type": "markdown",
   "metadata": {},
   "source": [
    "## <span style=\"color:#0b486b\">Instruction</span>"
   ]
  },
  {
   "cell_type": "markdown",
   "metadata": {},
   "source": [
    "This assignment contains **three** parts, in increasing order of machine learning sophistication levels as we go through the process of building an effective machine learning solution.\n",
    "\n",
    "* Part 1: Examine and understand your dataset **[10 points]**\n",
    "* Part 2: Build Model Intuition: What Works and What Doesn't **[70 points]**\n",
    "* Part 3: Model Screening and Comparison **[70 points]**\n",
    "\n",
    "**Hint**: this assignment was essentially designed based on the first three lectures and practical lab sessions. You are strongly recommended to go through these contents thoroughly which might help you complete this assignment."
   ]
  },
  {
   "cell_type": "markdown",
   "metadata": {},
   "source": [
    "## <span style=\"color:#0b486b\">What to submit</span>"
   ]
  },
  {
   "cell_type": "markdown",
   "metadata": {},
   "source": [
    "This assignment is to be completed individually and submitted to CloudDeakin. **By the due date, you are required to submit the following files to the corresponding Assignment (Dropbox) in CloudDeakin**:\n",
    "\n",
    "1.\t<span style=\"color:red\">**[YourID]_assignment1_solution.ipynp**</span>:  **this is your Python notebook solution source file**.\n",
    "1.\t<span style=\"color:red\">**[YourID]_assingment1_output.html**</span>: **this is the output of your Python notebook solution *exported* in HTML format**.\n",
    "\n",
    "For example, if your student ID is: 123456, you will then need to submit two files:\n",
    "* 123456_assignment1_solution.ipynp\n",
    "* 123456_assignment1_output.html\n",
    "\n",
    "<span style=\"color:red\">Now, please proceed to content below to complete your assignment!</span>"
   ]
  },
  {
   "cell_type": "markdown",
   "metadata": {},
   "source": [
    "---"
   ]
  },
  {
   "cell_type": "markdown",
   "metadata": {},
   "source": [
    "## <span style=\"color:#0b486b\">Part 1: Examine and understand your dataset </span>\n",
    "<div style=\"text-align: right\"><span style=\"color:red\">**[Total mark for this part: 10 points]**.<span></div>"
   ]
  },
  {
   "cell_type": "markdown",
   "metadata": {},
   "source": [
    "This assignment shares a similar theme with the practical lab session in week 2. You are required to work with the NUS_WIDE data for the task of face recognition.\n",
    "\n",
    "The first step in the process is to understand your data. You are given the following segments of codes\n",
    "- to import necessary libraries, \n",
    "- to define a utility function to display face images from the dataset, and\n",
    "- to load the dataset.\n",
    "\n",
    "They are provided for you to get started. Please **do not** change the provided code as well the variables and function names as you will need them to complete subsequent tasks. "
   ]
  },
  {
   "cell_type": "markdown",
   "metadata": {},
   "source": [
    "---"
   ]
  },
  {
   "cell_type": "markdown",
   "metadata": {},
   "source": [
    "\n",
    "\n",
    "**Note**: The following packages will be required for this assignment. If you need to import more packages, you might append them to the end of the cell."
   ]
  },
  {
   "cell_type": "code",
   "execution_count": 78,
   "metadata": {},
   "outputs": [],
   "source": [
    "from sklearn import datasets\n",
    "\n",
    "from sklearn import datasets\n",
    "import logging\n",
    "import matplotlib.pyplot as plt\n",
    "import numpy as np\n",
    "from sklearn import decomposition\n",
    "from sklearn.linear_model import LogisticRegression\n",
    "from sklearn import metrics\n",
    "from sklearn.model_selection import train_test_split\n",
    "\n",
    "# append your own importing packages here if needed\n",
    "from sklearn.pipeline import Pipeline\n",
    "from sklearn.svm import SVC\n",
    "from sklearn.neural_network import MLPClassifier\n",
    "from sklearn.ensemble import RandomForestClassifier\n",
    "from sklearn.neighbors import KNeighborsClassifier\n",
    "from sklearn.naive_bayes import GaussianNB"
   ]
  },
  {
   "cell_type": "code",
   "execution_count": 79,
   "metadata": {},
   "outputs": [],
   "source": [
    "# this function is a utility to display face images from the dataset\n",
    "%matplotlib inline  \n",
    "\n",
    "def display_faces(images, label, num2display):\n",
    "    fig = plt.figure(figsize=(15,15))\n",
    "    fig.subplots_adjust(left=0, right=1, bottom=0, top=1, hspace=0.05, wspace=0.05)\n",
    "    for i in range(num2display):\n",
    "        p = fig.add_subplot(20,20,i+1,xticks=[],yticks=[])\n",
    "        p.imshow(images[i], cmap=plt.cm.bone)\n",
    "        \n",
    "        p.text(0, 14, str(label[i]))\n",
    "        p.text(0, 60, str(i))"
   ]
  },
  {
   "cell_type": "markdown",
   "metadata": {},
   "source": [
    "**Warning**: the following command will download the dataset (approx. 200 Mb) to your local computer. You may need to install the *Pillow* package first by running the following command in the conda prompt."
   ]
  },
  {
   "cell_type": "raw",
   "metadata": {},
   "source": [
    "conda install --channel conda-forge pillow"
   ]
  },
  {
   "cell_type": "code",
   "execution_count": 80,
   "metadata": {},
   "outputs": [],
   "source": [
    "from sklearn.datasets import fetch_lfw_people\n",
    "faces = datasets.fetch_lfw_people(min_faces_per_person=80, resize=0.4)"
   ]
  },
  {
   "cell_type": "code",
   "execution_count": 81,
   "metadata": {},
   "outputs": [],
   "source": [
    "# store features in variable X and the label in variable y as in our usual convention notation.\n",
    "X, y = faces.data, faces.target"
   ]
  },
  {
   "cell_type": "markdown",
   "metadata": {},
   "source": [
    "---"
   ]
  },
  {
   "cell_type": "markdown",
   "metadata": {},
   "source": [
    "You should realise that executing the above segment of codes will result in:\n",
    "- variable `faces` containing the fetched dataset\n",
    "- variables `X` and `y` which contain the features and the labels respectively."
   ]
  },
  {
   "cell_type": "markdown",
   "metadata": {},
   "source": [
    "We first examine the NUS_WIDE dataset. You are asked to supply your own codes in the following cells to answer the following questions."
   ]
  },
  {
   "cell_type": "markdown",
   "metadata": {},
   "source": [
    "####  <span style=\"color:red\">**Question 1.1**</span>. Print out the description of the dataset using the variable `faces`. \n",
    "<div style=\"text-align: right\"><span style=\"color:red\">**[0.5 points]**</span></div>"
   ]
  },
  {
   "cell_type": "code",
   "execution_count": 82,
   "metadata": {},
   "outputs": [
    {
     "name": "stdout",
     "output_type": "stream",
     "text": [
      "LFW faces dataset\n"
     ]
    }
   ],
   "source": [
    "#YOU ARE REQUIRED TO INSERT YOUR CODES IN THIS CELL\n",
    "print(faces.DESCR)"
   ]
  },
  {
   "cell_type": "markdown",
   "metadata": {},
   "source": [
    "####  <span style=\"color:red\">**Question 1.2**</span>. Print out the total number of data points in this dataset.\n",
    "<div style=\"text-align: right\"><span style=\"color:red\">**[1.5 points]**</span></div> "
   ]
  },
  {
   "cell_type": "code",
   "execution_count": 110,
   "metadata": {},
   "outputs": [
    {
     "name": "stdout",
     "output_type": "stream",
     "text": [
      "2109000\n"
     ]
    }
   ],
   "source": [
    "#YOU ARE REQUIRED TO INSERT YOUR CODES IN THIS CELL\n",
    "print(len(X)*len(X[0]))\n",
    "# Student can use different field such as data, images target_names to get the number of data points "
   ]
  },
  {
   "cell_type": "markdown",
   "metadata": {},
   "source": [
    "####  <span style=\"color:red\">**Question 1.3**</span>. Each class, or label, in this dataset correspond to a person. Print out the number of classes, and the corresponding person name for each class. Print out 20 photos of *Donald Rumsfeld* and 20 photos of *Colin Powell*. You might decide to use the function `display_faces` provided at the beginning of this assignment, or you can write your own codes.\n",
    "<div style=\"text-align: right\"><span style=\"color:red\">**[5 points]**</span></div> "
   ]
  },
  {
   "cell_type": "code",
   "execution_count": 84,
   "metadata": {},
   "outputs": [
    {
     "name": "stdout",
     "output_type": "stream",
     "text": [
      "Total number of classes: 5\n",
      "Class 0 is Colin Powell\n",
      "Class 1 is Donald Rumsfeld\n",
      "Class 2 is George W Bush\n",
      "Class 3 is Gerhard Schroeder\n",
      "Class 4 is Tony Blair\n"
     ]
    }
   ],
   "source": [
    "#YOU ARE REQUIRED TO INSERT YOUR CODES IN THIS CELL\n",
    "\n",
    "# print out the number of classes, and corresponding name of each class\n",
    "class_ids=np.unique(y)\n",
    "\n",
    "# [insert your code here]\n",
    "\n",
    "print('Total number of classes:',len(class_ids))\n",
    "\n",
    "for i in range(len(class_ids)):\n",
    "    # [insert your code here]\n",
    "    print('Class',class_ids[i],'is',faces.target_names[class_ids[i]])"
   ]
  },
  {
   "cell_type": "code",
   "execution_count": 85,
   "metadata": {},
   "outputs": [
    {
     "data": {
      "image/png": "[encoded data removed]",
      "text/plain": [
       "<Figure size 1080x1080 with 20 Axes>"
      ]
     },
     "metadata": {},
     "output_type": "display_data"
    },
    {
     "data": {
      "image/png": "[encoded data removed]",
      "text/plain": [
       "<Figure size 1080x1080 with 20 Axes>"
      ]
     },
     "metadata": {},
     "output_type": "display_data"
    }
   ],
   "source": [
    "#YOU ARE REQUIRED TO INSERT YOUR CODES IN THIS CELL\n",
    "\n",
    "# print out 20 photos of Donald Rumsfeld and 20 photos of Colin Powell\n",
    "for i in range(len(class_ids)):\n",
    "    if faces.target_names[class_ids[i]] in ('Colin Powell','Donald Rumsfeld'): \n",
    "        display_faces(faces.images[y==i],y,20)"
   ]
  },
  {
   "cell_type": "markdown",
   "metadata": {},
   "source": [
    "####  <span style=\"color:red\">**Question 1.4**</span>. Given our problem of interest is face recognition, should we choose clustering, classification, or regression machine learning methods? Explain why and list at least three ML algorithms that are suitable for this problem.\n",
    "<div style=\"text-align: right\"><span style=\"color:red\">**[1 point]**</span></div> "
   ]
  },
  {
   "cell_type": "markdown",
   "metadata": {},
   "source": [
    "This problem is a classification problem. The faces belong to different people. The names of these people can be thought of as various categories. The task is to classify the image to a particular name. Machine learning algorithms that are suitable include: kneighbors classifier, linear support vector machines, support vector machines and ensemble classifiers."
   ]
  },
  {
   "cell_type": "markdown",
   "metadata": {},
   "source": [
    "####  <span style=\"color:red\">**Question 1.5**</span>. create *a single train-split* with 30% of data for testing and the rest for training.\n",
    "<div style=\"text-align: right\"><span style=\"color:red\">**[2 points]**</span></div> "
   ]
  },
  {
   "cell_type": "code",
   "execution_count": 86,
   "metadata": {},
   "outputs": [],
   "source": [
    "#YOU ARE REQUIRED TO INSERT YOUR CODES IN THIS CELL\n",
    "# split into a training and testing set\n",
    "\n",
    "X_train, X_test, y_train, y_test = train_test_split(X, y, test_size = 0.3, random_state=32)"
   ]
  },
  {
   "cell_type": "markdown",
   "metadata": {},
   "source": [
    "---"
   ]
  },
  {
   "cell_type": "markdown",
   "metadata": {},
   "source": [
    "### <span style=\"color:#0b486b\">Part 2: Build Model Intuition: What Works and What Doesn't </span>\n",
    "<div style=\"text-align: right\"><span style=\"color:red\">**[Total mark for this part: 70 points]**.<span></div>"
   ]
  },
  {
   "cell_type": "markdown",
   "metadata": {},
   "source": [
    "After we have gained a good understanding of the dataset from the previous step, we should by now be clear of the following points:\n",
    "\n",
    "- Do you have labels for this data? And hence, is it a supervised learning or unsupervised learning problem?\n",
    "- Recall that machine learning prediction is about learning a function $y= f(x)$ where $y$ is your label. Python variables `X` and `y` have been constructed and stored for you.\n",
    "- Variable `X` is a matrix, with each row is a vector $x_i$ assigned with label $y_i$. You should examine the data types (continuous, categorical, its dimensionality, etc.) of the features in `X` and the label in $y$. This will help you choose the right ML methods.\n",
    "\n",
    "These are the most common questions. Depending on the answers, more refined questions and considerations may be required for an improved solution."
   ]
  },
  {
   "cell_type": "markdown",
   "metadata": {},
   "source": [
    "As a machine learning practitioner, it is rarely the case that you can come up with the best solution at the first attempt. It is an iterative process. With the experience building up over time, you will be more efficient at it. **The next step is to get your hand dirty, start to explore to see what work, what doesn't work**. This process usually starts with models that are simple or more familiar to you."
   ]
  },
  {
   "cell_type": "markdown",
   "metadata": {},
   "source": [
    "####  <span style=\"color:red\">**Question 2.1**</span>. Using *Logistic Regression* as the classifier, you will examine what works and what doesn't work for your data:\n",
    "\n",
    "The total marks for this question are <span style=\"color:red\">**[40 points]**</span>, with the following detailed breakdown sub-questions:"
   ]
  },
  {
   "cell_type": "markdown",
   "metadata": {},
   "source": [
    "<span style=\"color:red\">**(a)**</span> **Write a Scikit-Learn pipeline of two steps: \n",
    "PCA for dimensionality reduction followed by logistic regression for classification.**\n",
    "<div style=\"text-align: right\"> <span style=\"color:red\">**[5 points]**</span> </div>"
   ]
  },
  {
   "cell_type": "code",
   "execution_count": 87,
   "metadata": {},
   "outputs": [],
   "source": [
    "# YOU ARE REQUIRED TO INSERT YOUR CODES IN THIS CELL\n",
    "pca = decomposition.PCA()\n",
    "\n",
    "logistic = LogisticRegression(penalty='l1', dual=False,\\\n",
    "              tol=0.0001, C=1.0, fit_intercept=True, intercept_scaling=1,\\\n",
    "              class_weight=None, random_state=None, solver='liblinear', \\\n",
    "            max_iter=100, multi_class='ovr', verbose=0, warm_start=False, n_jobs=1)\n",
    "\n",
    "pipe_face_recognition = Pipeline(steps=[('pca', pca),('logistic', logistic)])"
   ]
  },
  {
   "cell_type": "markdown",
   "metadata": {},
   "source": [
    "<span style=\"color:red\">**(b)**</span> ** Set the pipeline obtained in previous steps to keep the top *30 principal components*,  fit the training data, and then show the performance (recall, precision, accuracy, F-score) using the test data. **\n",
    "<div style=\"text-align: right\"> <span style=\"color:red\">**[5 points]**</span> </div>"
   ]
  },
  {
   "cell_type": "code",
   "execution_count": 105,
   "metadata": {},
   "outputs": [
    {
     "name": "stdout",
     "output_type": "stream",
     "text": [
      "Accuracy: 0.8011695906432749\n",
      "Precision: 0.7698211927470914\n",
      "Recall: 0.7259140561589521\n",
      "F-Score: 0.7447876486746919\n"
     ]
    }
   ],
   "source": [
    "# YOU ARE REQUIRED TO INSERT YOUR CODES IN THIS CELL\n",
    "\n",
    "from sklearn.metrics import accuracy_score\n",
    "from sklearn.metrics import precision_score\n",
    "from sklearn.metrics import recall_score\n",
    "from sklearn.metrics import f1_score\n",
    "\n",
    "# [insert your codes here]\n",
    "pipe_face_recognition.set_params(pca__n_components=30)\n",
    "pipe_face_recognition.fit(X_train, y_train)\n",
    "pred_labels = pipe_face_recognition.predict(X_test)\n",
    "print(('Accuracy: {}').format(accuracy_score(y_test,pred_labels)))\n",
    "print(('Precision: {}').format(precision_score(y_test,pred_labels,average='macro')))\n",
    "print(('Recall: {}').format(recall_score(y_test,pred_labels,average='macro')))\n",
    "print(('F-Score: {}').format(f1_score(y_test,pred_labels,average='macro')))"
   ]
  },
  {
   "cell_type": "markdown",
   "metadata": {},
   "source": [
    "<span style=\"color:red\">**(c)**</span>** Write your code to show the performance (recall, precision, accuracy, F-score) *using Repeated Random Train-Split* (10 runs, each with 60/40 split for traning and testing) on the training data. You *must* report both the mean and standard deviation of the performance for each evaluation metrics**.\n",
    "<div style=\"text-align: right\"> <span style=\"color:red\">**[10 points]**</span> </div>"
   ]
  },
  {
   "cell_type": "code",
   "execution_count": 89,
   "metadata": {},
   "outputs": [
    {
     "name": "stdout",
     "output_type": "stream",
     "text": [
      "fit_time mean: 0.1053931474685669\n",
      "fit_time standard deviation: 0.014590960700788552\n",
      "score_time mean: 0.021927547454833985\n",
      "score_time standard deviation: 0.0031362599742275335\n",
      "test_accuracy mean: 0.7861842105263159\n",
      "test_accuracy standard deviation: 0.01245374637236904\n",
      "test_precision_macro mean: 0.7487395703896633\n",
      "test_precision_macro standard deviation: 0.02589766474221239\n",
      "test_recall_macro mean: 0.6989955629269765\n",
      "test_recall_macro standard deviation: 0.015257431012117743\n",
      "test_f1_macro mean: 0.7178957527756955\n",
      "test_f1_macro standard deviation: 0.018129389982778982\n"
     ]
    }
   ],
   "source": [
    "# YOU ARE REQUIRED TO INSERT YOUR CODES IN THIS CELL\n",
    "from sklearn.model_selection import ShuffleSplit\n",
    "from sklearn.model_selection import cross_validate\n",
    "metrics = ['accuracy', 'precision_macro', 'recall_macro', 'f1_macro']\n",
    "\n",
    "# [insert your codes here]\n",
    "ss = ShuffleSplit(n_splits=10, test_size=0.40,random_state=0)\n",
    "scores = cross_validate(pipe_face_recognition, X, y, scoring=metrics,cv=ss, return_train_score=False)    \n",
    "eval_metrics = ['fit_time','score_time','test_accuracy','test_precision_macro',\n",
    "               'test_recall_macro','test_f1_macro']\n",
    "for i in eval_metrics:\n",
    "    print((i+' mean: {}').format(scores[i].mean()))\n",
    "    print((i+' standard deviation: {}').format(scores[i].std()))"
   ]
  },
  {
   "cell_type": "markdown",
   "metadata": {},
   "source": [
    "<span style=\"color:red\">**(d)**</span>** Write your code to show the performance (recall, precision, accuracy, F-score) using *K-fold cross-validation with k=10 folds* on the training data. **.\n",
    "<div style=\"text-align: right\"> <span style=\"color:red\">**[10 points]**</span> </div>"
   ]
  },
  {
   "cell_type": "code",
   "execution_count": 90,
   "metadata": {},
   "outputs": [
    {
     "name": "stdout",
     "output_type": "stream",
     "text": [
      "fit_time mean: 0.13081610202789307\n",
      "fit_time standard deviation: 0.010398300832955279\n",
      "score_time mean: 0.0066537618637084964\n",
      "score_time standard deviation: 0.0016487976058047835\n",
      "test_accuracy mean: 0.798101269953552\n",
      "test_accuracy standard deviation: 0.02992271460856535\n",
      "test_precision_macro mean: 0.7727382124246605\n",
      "test_precision_macro standard deviation: 0.03589646823023196\n",
      "test_recall_macro mean: 0.7163457182686059\n",
      "test_recall_macro standard deviation: 0.04059125417623666\n",
      "test_f1_macro mean: 0.7340452608429359\n",
      "test_f1_macro standard deviation: 0.0405238646087651\n"
     ]
    }
   ],
   "source": [
    "# YOU ARE REQUIRED TO INSERT YOUR CODES IN THIS CELL\n",
    "scores_kf = cross_validate(pipe_face_recognition, X, y, scoring=metrics,cv=10, return_train_score=False)\n",
    "for i in eval_metrics:\n",
    "    print((i+' mean: {}').format(scores_kf[i].mean()))\n",
    "    print((i+' standard deviation: {}').format(scores_kf[i].std()))"
   ]
  },
  {
   "cell_type": "markdown",
   "metadata": {},
   "source": [
    "<span style=\"color:red\">**(e)**</span>** Preparing a table to summarize the performances obtained from step (c) and and (d) against recall, precision, accuracy and F-score from step (b). What conclusions can you draw from the comparison?**\n",
    "<div style=\"text-align: right\"> <span style=\"color:red\">**[10 points]**</span> </div>"
   ]
  },
  {
   "cell_type": "markdown",
   "metadata": {},
   "source": [
    "|   |Recall   | Precision  |  Accuracy |F-measure   |\n",
    "|---|---|---|---|---|\n",
    "|Part B|0.7259140561589521|0.7698211927470914|0.8011695906432749|0.7447876486746919|\n",
    "|Part C (mean)|0.6989955629269765|0.7487395703896633|0.7861842105263159|0.7178957527756955|\n",
    "|Part D (mean)|0.7163457182686059|0.7727382124246605|0.798101269953552|0.7340452608429359||\n",
    "\n",
    "Conclusion:\n",
    "For all four evaluation metrics, the Logistic Regression algorithm is performing best, followed by K-Fold cross validation. Repeated random splits is performing the worst. "
   ]
  },
  {
   "cell_type": "markdown",
   "metadata": {},
   "source": [
    "<span style=\"color:red\">**Question 2.2.**</span> ** Once you have build some intuition about the problem and the effectiveness of some modelling choices, if the initial results aren't too bad, you should start to gain some confidences in your approach. You are recommended to look at your results in the previous question again to convince yourselves of your results. Some questions you should starting asking are: Is your average prediction accuracy over 50%? over 70%? What else can you try to make it better? Is Logistic Regression a good choice? Did the reduced dimension help to improve the performance?**\n",
    "\n",
    "**The next step is then to 'package' your code into some routine so that your investigation into your machine learning problem can be accelerated.**\n",
    "\n",
    "The total marks for this question is <span style=\"color:red\">**[30 points]**</span>, with the following detailed breakdown sub-questions:"
   ]
  },
  {
   "cell_type": "markdown",
   "metadata": {},
   "source": [
    "**The following function is provided for you as a example of how one might 'package' the important steps so far into a single function to help accelerating your**."
   ]
  },
  {
   "cell_type": "code",
   "execution_count": 91,
   "metadata": {
    "collapsed": true
   },
   "outputs": [],
   "source": [
    "from sklearn.model_selection import KFold\n",
    "from sklearn.model_selection import cross_val_score\n",
    "from sklearn.pipeline import Pipeline\n",
    "\n",
    "def ml_algorithm_screening_face(X,y,model, model_name, scoring_metrics, pca_dim, n_runs):\n",
    "    estimators = []\n",
    "    seed = 10\n",
    "    if (pca_dim > 0):\n",
    "        estimators.append(('pca', decomposition.PCA(n_components=pca_dim)))\n",
    "    \n",
    "    estimators.append((model_name,model))\n",
    "    pipeline = Pipeline(estimators)\n",
    "    kfold = KFold(n_splits=n_runs, random_state=seed)\n",
    "    try:\n",
    "        results = cross_val_score(pipeline, X, y, cv=kfold, scoring=scoring_metrics, verbose=1, n_jobs=-1)\n",
    "    except ValueError:\n",
    "        print(\"Opps! something went wrong!\")\n",
    "        \n",
    "    return results"
   ]
  },
  {
   "cell_type": "markdown",
   "metadata": {},
   "source": [
    "**Using  this function given above, you are asked to:**\n",
    "\n",
    "<span style=\"color:red\">**(a)**</span>** Write your code to call this function with following specification and print out the mean and standard deviation of the *accuracy* obtained.**\n",
    "    - model: Logistic Regression (using l1 regulaization)\n",
    "    - PCA dimnesion = 30\n",
    "    - the number of runs=10\n",
    "    \n",
    "<div style=\"text-align: right\"> <span style=\"color:red\">**[10 points]**</span> </div>"
   ]
  },
  {
   "cell_type": "code",
   "execution_count": 92,
   "metadata": {
    "collapsed": true
   },
   "outputs": [
    {
     "name": "stdout",
     "output_type": "stream",
     "text": [
      "mean of accuracy: 0.7991228070175438\n",
      "standard deviation of accuracy: 0.032456140350877204\n"
     ]
    },
    {
     "name": "stderr",
     "output_type": "stream",
     "text": [
      "[Parallel(n_jobs=-1)]: Done  10 out of  10 | elapsed:    1.5s finished\n"
     ]
    }
   ],
   "source": [
    "# YOU ARE REQUIRED TO INSERT YOUR CODES IN THIS CELL\n",
    "output_of_function = ml_algorithm_screening_face(X=X,y=y,model=LogisticRegression(penalty='l1', dual=False,\\\n",
    "              tol=0.0001, C=1.0, fit_intercept=True, intercept_scaling=1,\\\n",
    "              class_weight=None, random_state=None, solver='liblinear', \\\n",
    "            max_iter=100, multi_class='ovr', verbose=0, warm_start=False, n_jobs=1),\n",
    "            model_name=\"logistic\",scoring_metrics='accuracy',pca_dim=30,n_runs=10)\n",
    "\n",
    "print(('mean of accuracy: {}').format(output_of_function.mean()))\n",
    "print(('standard deviation of accuracy: {}').format(output_of_function.std()))"
   ]
  },
  {
   "cell_type": "markdown",
   "metadata": {},
   "source": [
    "<span style=\"color:red\">**(b)**</span>** Face recognition has a high-dimensional data problem typical  in modern machine learning. This explains why one might routinely use PCA to reduce its dimesion.**\n",
    "\n",
    "**Write your code to search for right dimension from a list of *dim = {10, 20,..,150}* using the same setting in question 2.1(a).**\n",
    "- Print out the results for each dimension.\n",
    "- Use box-plot to visualize the mean and standard deviation of the accuracy for each dimension on the same figure, and \n",
    "- Report the dimension for PCA that gives the best result in term of accuracy.\n",
    "\n",
    "<div style=\"text-align: right\"> <span style=\"color:red\">**[20 points]**<span> </div>"
   ]
  },
  {
   "cell_type": "code",
   "execution_count": 93,
   "metadata": {
    "collapsed": true
   },
   "outputs": [
    {
     "name": "stdout",
     "output_type": "stream",
     "text": [
      "Mean of 10 dimensional PCA: 0.5368421052631579\n",
      "Standard Deviation of 10 dimensional PCA: 0.037993697943346866\n"
     ]
    },
    {
     "name": "stderr",
     "output_type": "stream",
     "text": [
      "[Parallel(n_jobs=-1)]: Done  10 out of  10 | elapsed:    1.1s finished\n"
     ]
    },
    {
     "name": "stdout",
     "output_type": "stream",
     "text": [
      "Mean of 20 dimensional PCA: 0.6947368421052632\n",
      "Standard Deviation of 20 dimensional PCA: 0.02823417006917734\n"
     ]
    },
    {
     "name": "stderr",
     "output_type": "stream",
     "text": [
      "[Parallel(n_jobs=-1)]: Done  10 out of  10 | elapsed:    1.3s finished\n"
     ]
    },
    {
     "name": "stdout",
     "output_type": "stream",
     "text": [
      "Mean of 30 dimensional PCA: 0.7973684210526317\n",
      "Standard Deviation of 30 dimensional PCA: 0.03430037683511782\n"
     ]
    },
    {
     "name": "stderr",
     "output_type": "stream",
     "text": [
      "[Parallel(n_jobs=-1)]: Done  10 out of  10 | elapsed:    1.5s finished\n"
     ]
    },
    {
     "name": "stdout",
     "output_type": "stream",
     "text": [
      "Mean of 40 dimensional PCA: 0.8333333333333333\n",
      "Standard Deviation of 40 dimensional PCA: 0.020758174677542512\n"
     ]
    },
    {
     "name": "stderr",
     "output_type": "stream",
     "text": [
      "[Parallel(n_jobs=-1)]: Done  10 out of  10 | elapsed:    1.8s finished\n"
     ]
    },
    {
     "name": "stdout",
     "output_type": "stream",
     "text": [
      "Mean of 50 dimensional PCA: 0.8377192982456141\n",
      "Standard Deviation of 50 dimensional PCA: 0.023619143890940813\n"
     ]
    },
    {
     "name": "stderr",
     "output_type": "stream",
     "text": [
      "[Parallel(n_jobs=-1)]: Done  10 out of  10 | elapsed:    2.0s finished\n"
     ]
    },
    {
     "name": "stdout",
     "output_type": "stream",
     "text": [
      "Mean of 60 dimensional PCA: 0.8377192982456141\n",
      "Standard Deviation of 60 dimensional PCA: 0.02457706267740682\n"
     ]
    },
    {
     "name": "stderr",
     "output_type": "stream",
     "text": [
      "[Parallel(n_jobs=-1)]: Done  10 out of  10 | elapsed:    2.4s finished\n"
     ]
    },
    {
     "name": "stdout",
     "output_type": "stream",
     "text": [
      "Mean of 70 dimensional PCA: 0.8403508771929825\n",
      "Standard Deviation of 70 dimensional PCA: 0.029565437800618807\n"
     ]
    },
    {
     "name": "stderr",
     "output_type": "stream",
     "text": [
      "[Parallel(n_jobs=-1)]: Done  10 out of  10 | elapsed:    3.0s finished\n"
     ]
    },
    {
     "name": "stdout",
     "output_type": "stream",
     "text": [
      "Mean of 80 dimensional PCA: 0.8385964912280702\n",
      "Standard Deviation of 80 dimensional PCA: 0.03379186014782142\n"
     ]
    },
    {
     "name": "stderr",
     "output_type": "stream",
     "text": [
      "[Parallel(n_jobs=-1)]: Done  10 out of  10 | elapsed:    4.4s finished\n"
     ]
    },
    {
     "name": "stdout",
     "output_type": "stream",
     "text": [
      "Mean of 90 dimensional PCA: 0.8324561403508772\n",
      "Standard Deviation of 90 dimensional PCA: 0.04393852556620419\n"
     ]
    },
    {
     "name": "stderr",
     "output_type": "stream",
     "text": [
      "[Parallel(n_jobs=-1)]: Done  10 out of  10 | elapsed:    4.9s finished\n"
     ]
    },
    {
     "name": "stdout",
     "output_type": "stream",
     "text": [
      "Mean of 100 dimensional PCA: 0.8245614035087719\n",
      "Standard Deviation of 100 dimensional PCA: 0.0405790649341066\n"
     ]
    },
    {
     "name": "stderr",
     "output_type": "stream",
     "text": [
      "[Parallel(n_jobs=-1)]: Done  10 out of  10 | elapsed:    6.2s finished\n"
     ]
    },
    {
     "name": "stdout",
     "output_type": "stream",
     "text": [
      "Mean of 110 dimensional PCA: 0.8254385964912281\n",
      "Standard Deviation of 110 dimensional PCA: 0.034523980095007775\n"
     ]
    },
    {
     "name": "stderr",
     "output_type": "stream",
     "text": [
      "[Parallel(n_jobs=-1)]: Done  10 out of  10 | elapsed:    7.5s finished\n"
     ]
    },
    {
     "name": "stdout",
     "output_type": "stream",
     "text": [
      "Mean of 120 dimensional PCA: 0.8087719298245615\n",
      "Standard Deviation of 120 dimensional PCA: 0.03230167129740697\n"
     ]
    },
    {
     "name": "stderr",
     "output_type": "stream",
     "text": [
      "[Parallel(n_jobs=-1)]: Done  10 out of  10 | elapsed:    8.6s finished\n"
     ]
    },
    {
     "name": "stdout",
     "output_type": "stream",
     "text": [
      "Mean of 130 dimensional PCA: 0.8087719298245613\n",
      "Standard Deviation of 130 dimensional PCA: 0.033008574951275044\n"
     ]
    },
    {
     "name": "stderr",
     "output_type": "stream",
     "text": [
      "[Parallel(n_jobs=-1)]: Done  10 out of  10 | elapsed:    7.5s finished\n"
     ]
    },
    {
     "name": "stdout",
     "output_type": "stream",
     "text": [
      "Mean of 140 dimensional PCA: 0.7991228070175438\n",
      "Standard Deviation of 140 dimensional PCA: 0.023684210526315797\n"
     ]
    },
    {
     "name": "stderr",
     "output_type": "stream",
     "text": [
      "[Parallel(n_jobs=-1)]: Done  10 out of  10 | elapsed:    7.1s finished\n",
      "[Parallel(n_jobs=-1)]: Done  10 out of  10 | elapsed:    5.2s finished\n"
     ]
    },
    {
     "name": "stdout",
     "output_type": "stream",
     "text": [
      "Mean of 150 dimensional PCA: 0.8122807017543859\n",
      "Standard Deviation of 150 dimensional PCA: 0.01969293361459969\n"
     ]
    },
    {
     "data": {
      "image/png": "[encoded data removed]",
      "text/plain": [
       "<Figure size 432x288 with 1 Axes>"
      ]
     },
     "metadata": {},
     "output_type": "display_data"
    },
    {
     "name": "stdout",
     "output_type": "stream",
     "text": [
      "Dimension for PCA that gives the best result: 70\n"
     ]
    }
   ],
   "source": [
    "# YOU ARE REQUIRED TO INSERT YOUR CODES IN THIS CELL\n",
    "\n",
    "import matplotlib.pyplot as plt\n",
    "import numpy as np\n",
    "%matplotlib inline\n",
    "\n",
    "# [insert your code here]\n",
    "bp = []\n",
    "bp_mean = []\n",
    "for i in range(10, 151, 10):\n",
    "    output_of_function = ml_algorithm_screening_face(X=X,y=y,model=LogisticRegression(penalty='l1', dual=False,\\\n",
    "              tol=0.0001, C=1.0, fit_intercept=True, intercept_scaling=1,\\\n",
    "              class_weight=None, random_state=None, solver='liblinear', \\\n",
    "            max_iter=100, multi_class='ovr', verbose=0, warm_start=False, n_jobs=1),\n",
    "            model_name=\"logistic\",scoring_metrics='accuracy',pca_dim=i,n_runs=10)\n",
    "    print(('Mean of '+str(i)+' dimensional PCA: {}').format(output_of_function.mean()))\n",
    "    print(('Standard Deviation of '+str(i)+' dimensional PCA: {}').format(output_of_function.std()))\n",
    "    bp.append(output_of_function)\n",
    "    bp_mean.append(output_of_function.mean())\n",
    "    if i == 150:\n",
    "        plt.boxplot(bp)\n",
    "        plt.show()\n",
    "\n",
    "max_dimension = np.argmax(bp_mean)*10+10\n",
    "print('Dimension for PCA that gives the best result: {}'.format(max_dimension))"
   ]
  },
  {
   "cell_type": "markdown",
   "metadata": {},
   "source": [
    "---\n",
    "### Part 3: Model Screening and Comparison\n",
    "<div style=\"text-align: right\"><span style=\"color:red\">**[Total mark for this part: 70 points]**.<span></div>"
   ]
  },
  {
   "cell_type": "markdown",
   "metadata": {},
   "source": [
    "**By now, you should have a very good idea of data, some models and parameters that might perform well for your problem. However, by no means it should be best. **\n",
    "\n",
    "**The last part of this assignment is about the skill to screen best model for your problem. Going beyond the question 'which model is applicable to my problem?', you should start to ask the question 'which set of models should I test for my problem?'.**\n",
    "\n",
    "**It is important to screen through different types of ML algorithms and then select the most appropriate algorithm for your data. As it is commonly used in practice, in this assigment, you are suggested to explore 3 groups of models, each including 2 to 3 algorithms. **\n",
    "\n",
    "1. Linear classification models\n",
    "    - Logistic Regression\n",
    "    - Linear Discriminant Analysis (LDA)\n",
    "2. Non-linear classification models\n",
    "    - Support Vector Machines\n",
    "    - Neural Networks\n",
    "3. Non-parametric and probabilistic classification models\n",
    "    - Random Forest Classifier\n",
    "    - K-NN Classifer\n",
    "    - GaussianNB"
   ]
  },
  {
   "cell_type": "markdown",
   "metadata": {},
   "source": [
    "<span style=\"color:red\">**Question 3.1**</span>** Fixing the PCA dimension to the value you founded in Part 2, write your code to compare the performance among these two linear models. Which model performs better? and write down any observation you might have.** \n",
    "\n",
    "* [Logistic Regression](http://scikit-learn.org/stable/modules/generated/sklearn.linear_model.LogisticRegression.html)\n",
    "* [Linear Discriminant Analysis (LDA)](http://scikit-learn.org/stable/modules/generated/sklearn.discriminant_analysis.LinearDiscriminantAnalysis.html)\n",
    "\n",
    "<div style=\"text-align: right\"> <span style=\"color:red\">**[10 points]**</span> </div>"
   ]
  },
  {
   "cell_type": "code",
   "execution_count": 100,
   "metadata": {
    "collapsed": true
   },
   "outputs": [
    {
     "name": "stderr",
     "output_type": "stream",
     "text": [
      "[Parallel(n_jobs=-1)]: Done  10 out of  10 | elapsed:    2.8s finished\n",
      "/anaconda3/lib/python3.6/site-packages/sklearn/discriminant_analysis.py:442: UserWarning: The priors do not sum to 1. Renormalizing\n",
      "  UserWarning)\n",
      "/anaconda3/lib/python3.6/site-packages/sklearn/discriminant_analysis.py:442: UserWarning: The priors do not sum to 1. Renormalizing\n",
      "  UserWarning)\n"
     ]
    },
    {
     "name": "stdout",
     "output_type": "stream",
     "text": [
      "The better metric according to the accuracy metric is: LDA\n"
     ]
    },
    {
     "name": "stderr",
     "output_type": "stream",
     "text": [
      "[Parallel(n_jobs=-1)]: Done  10 out of  10 | elapsed:    1.8s finished\n",
      "[Parallel(n_jobs=-1)]: Done  10 out of  10 | elapsed:    3.1s finished\n",
      "/anaconda3/lib/python3.6/site-packages/sklearn/discriminant_analysis.py:442: UserWarning: The priors do not sum to 1. Renormalizing\n",
      "  UserWarning)\n",
      "/anaconda3/lib/python3.6/site-packages/sklearn/discriminant_analysis.py:442: UserWarning: The priors do not sum to 1. Renormalizing\n",
      "  UserWarning)\n"
     ]
    },
    {
     "name": "stdout",
     "output_type": "stream",
     "text": [
      "The better metric according to the precision_macro metric is: LDA\n"
     ]
    },
    {
     "name": "stderr",
     "output_type": "stream",
     "text": [
      "[Parallel(n_jobs=-1)]: Done  10 out of  10 | elapsed:    1.8s finished\n",
      "[Parallel(n_jobs=-1)]: Done  10 out of  10 | elapsed:    3.1s finished\n",
      "/anaconda3/lib/python3.6/site-packages/sklearn/discriminant_analysis.py:442: UserWarning: The priors do not sum to 1. Renormalizing\n",
      "  UserWarning)\n",
      "/anaconda3/lib/python3.6/site-packages/sklearn/discriminant_analysis.py:442: UserWarning: The priors do not sum to 1. Renormalizing\n",
      "  UserWarning)\n"
     ]
    },
    {
     "name": "stdout",
     "output_type": "stream",
     "text": [
      "The better metric according to the recall_macro metric is: LDA\n"
     ]
    },
    {
     "name": "stderr",
     "output_type": "stream",
     "text": [
      "[Parallel(n_jobs=-1)]: Done  10 out of  10 | elapsed:    1.6s finished\n",
      "[Parallel(n_jobs=-1)]: Done  10 out of  10 | elapsed:    3.0s finished\n",
      "/anaconda3/lib/python3.6/site-packages/sklearn/discriminant_analysis.py:442: UserWarning: The priors do not sum to 1. Renormalizing\n",
      "  UserWarning)\n",
      "/anaconda3/lib/python3.6/site-packages/sklearn/discriminant_analysis.py:442: UserWarning: The priors do not sum to 1. Renormalizing\n",
      "  UserWarning)\n"
     ]
    },
    {
     "name": "stdout",
     "output_type": "stream",
     "text": [
      "The better metric according to the f1_macro metric is: LDA\n",
      "[0.8403508771929825, 0.8167305393215532, 0.7940891754263608, 0.8007128356473412]\n",
      "[0.8596491228070174, 0.8314398356200282, 0.8246929390979882, 0.8242768985490878]\n"
     ]
    },
    {
     "name": "stderr",
     "output_type": "stream",
     "text": [
      "[Parallel(n_jobs=-1)]: Done  10 out of  10 | elapsed:    1.8s finished\n"
     ]
    }
   ],
   "source": [
    "# YOU ARE REQUIRED TO INSERT YOUR CODES IN THIS CELL\n",
    "\n",
    "#  Write your code to compare the performance among linear models. \n",
    "#     - Logistic Regression\n",
    "#     - LinearDiscriminantAnalysis (LDA)\n",
    "\n",
    "from sklearn.linear_model import LogisticRegression\n",
    "from sklearn.discriminant_analysis import LinearDiscriminantAnalysis\n",
    "\n",
    "# [insert your code here]\n",
    "metrics = ['accuracy', 'precision_macro', 'recall_macro', 'f1_macro']\n",
    "logistic_output_array=[]\n",
    "lda_output_array=[]\n",
    "for i in range(0,4):\n",
    "    logistic_output = ml_algorithm_screening_face(X=X,y=y,model=LogisticRegression(penalty='l1', dual=False,\\\n",
    "              tol=0.0001, C=1.0, fit_intercept=True, intercept_scaling=1,\\\n",
    "              class_weight=None, random_state=None, solver='liblinear', \\\n",
    "            max_iter=100, multi_class='ovr', verbose=0, warm_start=False, n_jobs=1),\n",
    "            model_name=\"logistic\",scoring_metrics=metrics[i],pca_dim=max_dimension,n_runs=10)\n",
    "    lda_output = (ml_algorithm_screening_face(X=X,y=y,model=LinearDiscriminantAnalysis(),\n",
    "            model_name=\"lda\",scoring_metrics=metrics[i],pca_dim=max_dimension,n_runs=10))\n",
    "    logistic_output_array.append(logistic_output.mean()) # can be used to print out results, if required\n",
    "    lda_output_array.append(lda_output.mean()) # can be used to print out results, if required\n",
    "    if logistic_output.mean() != lda_output.mean():\n",
    "        if logistic_output.mean() > lda_output.mean():\n",
    "            linear_comparison_output = 'Logistic Regression'\n",
    "        elif lda_output.mean() > logistic_output.mean():\n",
    "            linear_comparison_output = 'LDA'\n",
    "        print('The better metric according to the '+metrics[i]+' metric is: '+linear_comparison_output)\n",
    "    else:\n",
    "        print('In terms of metric '+i+' both models are equal')"
   ]
  },
  {
   "cell_type": "markdown",
   "metadata": {},
   "source": [
    "<span style=\"color:red\">**Question 3.2**</span>** Fixing the PCA dimension to the value you founded in Part 2, write your code to compare the performance among these two nonlinear models. Which model performs better? and write down any observation you might have.** \n",
    "* [Support Vector Machines](http://scikit-learn.org/stable/modules/generated/sklearn.svm.SVC.html)\n",
    "* [Neural Networks](http://scikit-learn.org/stable/modules/generated/sklearn.neural_network.MLPClassifier.html)\n",
    "<div style=\"text-align: right\"> <span style=\"color:red\">**[10 points]**</span> </div>"
   ]
  },
  {
   "cell_type": "code",
   "execution_count": 103,
   "metadata": {
    "collapsed": true
   },
   "outputs": [
    {
     "name": "stderr",
     "output_type": "stream",
     "text": [
      "[Parallel(n_jobs=-1)]: Done  10 out of  10 | elapsed:    2.6s finished\n"
     ]
    },
    {
     "name": "stdout",
     "output_type": "stream",
     "text": [
      "The better metric according to the accuracy metric is: Neural Networks\n"
     ]
    },
    {
     "name": "stderr",
     "output_type": "stream",
     "text": [
      "[Parallel(n_jobs=-1)]: Done  10 out of  10 | elapsed:    5.4s finished\n",
      "/anaconda3/lib/python3.6/site-packages/sklearn/metrics/classification.py:1135: UndefinedMetricWarning: Precision is ill-defined and being set to 0.0 in labels with no predicted samples.\n",
      "  'precision', 'predicted', average, warn_for)\n",
      "/anaconda3/lib/python3.6/site-packages/sklearn/metrics/classification.py:1135: UndefinedMetricWarning: Precision is ill-defined and being set to 0.0 in labels with no predicted samples.\n",
      "  'precision', 'predicted', average, warn_for)\n",
      "/anaconda3/lib/python3.6/site-packages/sklearn/metrics/classification.py:1135: UndefinedMetricWarning: Precision is ill-defined and being set to 0.0 in labels with no predicted samples.\n",
      "  'precision', 'predicted', average, warn_for)\n",
      "/anaconda3/lib/python3.6/site-packages/sklearn/metrics/classification.py:1135: UndefinedMetricWarning: Precision is ill-defined and being set to 0.0 in labels with no predicted samples.\n",
      "  'precision', 'predicted', average, warn_for)\n",
      "/anaconda3/lib/python3.6/site-packages/sklearn/metrics/classification.py:1135: UndefinedMetricWarning: Precision is ill-defined and being set to 0.0 in labels with no predicted samples.\n",
      "  'precision', 'predicted', average, warn_for)\n",
      "/anaconda3/lib/python3.6/site-packages/sklearn/metrics/classification.py:1135: UndefinedMetricWarning: Precision is ill-defined and being set to 0.0 in labels with no predicted samples.\n",
      "  'precision', 'predicted', average, warn_for)\n",
      "/anaconda3/lib/python3.6/site-packages/sklearn/metrics/classification.py:1135: UndefinedMetricWarning: Precision is ill-defined and being set to 0.0 in labels with no predicted samples.\n",
      "  'precision', 'predicted', average, warn_for)\n",
      "/anaconda3/lib/python3.6/site-packages/sklearn/metrics/classification.py:1135: UndefinedMetricWarning: Precision is ill-defined and being set to 0.0 in labels with no predicted samples.\n",
      "  'precision', 'predicted', average, warn_for)\n",
      "/anaconda3/lib/python3.6/site-packages/sklearn/metrics/classification.py:1135: UndefinedMetricWarning: Precision is ill-defined and being set to 0.0 in labels with no predicted samples.\n",
      "  'precision', 'predicted', average, warn_for)\n",
      "/anaconda3/lib/python3.6/site-packages/sklearn/metrics/classification.py:1135: UndefinedMetricWarning: Precision is ill-defined and being set to 0.0 in labels with no predicted samples.\n",
      "  'precision', 'predicted', average, warn_for)\n",
      "[Parallel(n_jobs=-1)]: Done  10 out of  10 | elapsed:    2.7s finished\n"
     ]
    },
    {
     "name": "stdout",
     "output_type": "stream",
     "text": [
      "The better metric according to the precision_macro metric is: Neural Networks\n"
     ]
    },
    {
     "name": "stderr",
     "output_type": "stream",
     "text": [
      "[Parallel(n_jobs=-1)]: Done  10 out of  10 | elapsed:    5.4s finished\n",
      "[Parallel(n_jobs=-1)]: Done  10 out of  10 | elapsed:    2.4s finished\n"
     ]
    },
    {
     "name": "stdout",
     "output_type": "stream",
     "text": [
      "The better metric according to the recall_macro metric is: Neural Networks\n"
     ]
    },
    {
     "name": "stderr",
     "output_type": "stream",
     "text": [
      "[Parallel(n_jobs=-1)]: Done  10 out of  10 | elapsed:    4.4s finished\n",
      "/anaconda3/lib/python3.6/site-packages/sklearn/metrics/classification.py:1135: UndefinedMetricWarning: F-score is ill-defined and being set to 0.0 in labels with no predicted samples.\n",
      "  'precision', 'predicted', average, warn_for)\n",
      "/anaconda3/lib/python3.6/site-packages/sklearn/metrics/classification.py:1135: UndefinedMetricWarning: F-score is ill-defined and being set to 0.0 in labels with no predicted samples.\n",
      "  'precision', 'predicted', average, warn_for)\n",
      "/anaconda3/lib/python3.6/site-packages/sklearn/metrics/classification.py:1135: UndefinedMetricWarning: F-score is ill-defined and being set to 0.0 in labels with no predicted samples.\n",
      "  'precision', 'predicted', average, warn_for)\n",
      "/anaconda3/lib/python3.6/site-packages/sklearn/metrics/classification.py:1135: UndefinedMetricWarning: F-score is ill-defined and being set to 0.0 in labels with no predicted samples.\n",
      "  'precision', 'predicted', average, warn_for)\n",
      "/anaconda3/lib/python3.6/site-packages/sklearn/metrics/classification.py:1135: UndefinedMetricWarning: F-score is ill-defined and being set to 0.0 in labels with no predicted samples.\n",
      "  'precision', 'predicted', average, warn_for)\n",
      "/anaconda3/lib/python3.6/site-packages/sklearn/metrics/classification.py:1135: UndefinedMetricWarning: F-score is ill-defined and being set to 0.0 in labels with no predicted samples.\n",
      "  'precision', 'predicted', average, warn_for)\n",
      "/anaconda3/lib/python3.6/site-packages/sklearn/metrics/classification.py:1135: UndefinedMetricWarning: F-score is ill-defined and being set to 0.0 in labels with no predicted samples.\n",
      "  'precision', 'predicted', average, warn_for)\n",
      "/anaconda3/lib/python3.6/site-packages/sklearn/metrics/classification.py:1135: UndefinedMetricWarning: F-score is ill-defined and being set to 0.0 in labels with no predicted samples.\n",
      "  'precision', 'predicted', average, warn_for)\n",
      "/anaconda3/lib/python3.6/site-packages/sklearn/metrics/classification.py:1135: UndefinedMetricWarning: F-score is ill-defined and being set to 0.0 in labels with no predicted samples.\n",
      "  'precision', 'predicted', average, warn_for)\n",
      "/anaconda3/lib/python3.6/site-packages/sklearn/metrics/classification.py:1135: UndefinedMetricWarning: F-score is ill-defined and being set to 0.0 in labels with no predicted samples.\n",
      "  'precision', 'predicted', average, warn_for)\n",
      "[Parallel(n_jobs=-1)]: Done  10 out of  10 | elapsed:    2.5s finished\n"
     ]
    },
    {
     "name": "stdout",
     "output_type": "stream",
     "text": [
      "The better metric according to the f1_macro metric is: Neural Networks\n"
     ]
    },
    {
     "name": "stderr",
     "output_type": "stream",
     "text": [
      "[Parallel(n_jobs=-1)]: Done  10 out of  10 | elapsed:    3.9s finished\n"
     ]
    }
   ],
   "source": [
    "# YOU ARE REQUIRED TO INSERT YOUR CODES IN THIS CELL\n",
    "\n",
    "# Write your code to  compare the performance among non-linear models.\n",
    "#     - Support Vector Machines (SVM)\n",
    "#     - Neural Networks\n",
    "\n",
    "# [insert your code here]\n",
    "metrics = ['accuracy', 'precision_macro', 'recall_macro', 'f1_macro']\n",
    "svm_output_array = []\n",
    "nn_output_array = []\n",
    "\n",
    "for i in range(0,4):\n",
    "    svm_output = ml_algorithm_screening_face(X=X,y=y,model=SVC(),\n",
    "            model_name=\"logistic\",scoring_metrics=metrics[i],pca_dim=max_dimension,n_runs=10)\n",
    "    nn_output = (ml_algorithm_screening_face(X=X,y=y,model=MLPClassifier(),\n",
    "            model_name=\"lda\",scoring_metrics=metrics[i],pca_dim=max_dimension,n_runs=10))\n",
    "    svm_output_array.append(svm_output.mean()) # can be used to print out results, if required\n",
    "    nn_output_array.append(nn_output.mean()) # can be used to print out results, if required\n",
    "    if svm_output.mean() != nn_output.mean():\n",
    "        if svm_output.mean() > nn_output.mean():\n",
    "            non_linear_comparison_output = 'SVC'\n",
    "        elif nn_output.mean() > svm_output.mean():\n",
    "            non_linear_comparison_output = 'Neural Networks'\n",
    "        print('The better metric according to the '+metrics[i]+' metric is: '+non_linear_comparison_output)\n",
    "    else:\n",
    "        print('In terms of metric '+metrics[i]+' both models are equal')"
   ]
  },
  {
   "cell_type": "markdown",
   "metadata": {},
   "source": [
    "<span style=\"color:red\">**Question 3.3**</span>** Fixing the PCA dimension to the value you founded in Part 2, write your code to compare the performance among these non-parametric and probabilistic models. Which model performs better? and write down any observation you might have.** \n",
    "* [Random Forest Classifier](http://scikit-learn.org/stable/modules/generated/sklearn.ensemble.RandomForestClassifier.html)\n",
    "* [K-NN Classifer](http://scikit-learn.org/stable/modules/generated/sklearn.neighbors.KNeighborsClassifier.html)\n",
    "* [GaussianNB](http://scikit-learn.org/stable/modules/generated/sklearn.naive_bayes.GaussianNB.html)\n",
    "\n",
    "<div style=\"text-align: right\"> <span style=\"color:red\">**[15 points]**</span> </div>"
   ]
  },
  {
   "cell_type": "code",
   "execution_count": 102,
   "metadata": {
    "collapsed": true
   },
   "outputs": [
    {
     "name": "stderr",
     "output_type": "stream",
     "text": [
      "[Parallel(n_jobs=-1)]: Done  10 out of  10 | elapsed:    2.3s finished\n",
      "[Parallel(n_jobs=-1)]: Done  10 out of  10 | elapsed:    1.9s finished\n"
     ]
    },
    {
     "name": "stdout",
     "output_type": "stream",
     "text": [
      "The better metric according to the accuracy metric is: GaussianNB\n"
     ]
    },
    {
     "name": "stderr",
     "output_type": "stream",
     "text": [
      "[Parallel(n_jobs=-1)]: Done  10 out of  10 | elapsed:    1.8s finished\n",
      "/anaconda3/lib/python3.6/site-packages/sklearn/metrics/classification.py:1135: UndefinedMetricWarning: Precision is ill-defined and being set to 0.0 in labels with no predicted samples.\n",
      "  'precision', 'predicted', average, warn_for)\n",
      "[Parallel(n_jobs=-1)]: Done  10 out of  10 | elapsed:    2.1s finished\n",
      "/anaconda3/lib/python3.6/site-packages/sklearn/metrics/classification.py:1135: UndefinedMetricWarning: Precision is ill-defined and being set to 0.0 in labels with no predicted samples.\n",
      "  'precision', 'predicted', average, warn_for)\n",
      "[Parallel(n_jobs=-1)]: Done  10 out of  10 | elapsed:    1.8s finished\n"
     ]
    },
    {
     "name": "stdout",
     "output_type": "stream",
     "text": [
      "The better metric according to the precision_macro metric is: GaussianNB\n"
     ]
    },
    {
     "name": "stderr",
     "output_type": "stream",
     "text": [
      "[Parallel(n_jobs=-1)]: Done  10 out of  10 | elapsed:    2.0s finished\n",
      "[Parallel(n_jobs=-1)]: Done  10 out of  10 | elapsed:    2.1s finished\n",
      "[Parallel(n_jobs=-1)]: Done  10 out of  10 | elapsed:    1.8s finished\n"
     ]
    },
    {
     "name": "stdout",
     "output_type": "stream",
     "text": [
      "The better metric according to the recall_macro metric is: GaussianNB\n"
     ]
    },
    {
     "name": "stderr",
     "output_type": "stream",
     "text": [
      "[Parallel(n_jobs=-1)]: Done  10 out of  10 | elapsed:    1.8s finished\n",
      "/anaconda3/lib/python3.6/site-packages/sklearn/metrics/classification.py:1135: UndefinedMetricWarning: F-score is ill-defined and being set to 0.0 in labels with no predicted samples.\n",
      "  'precision', 'predicted', average, warn_for)\n",
      "[Parallel(n_jobs=-1)]: Done  10 out of  10 | elapsed:    2.0s finished\n",
      "/anaconda3/lib/python3.6/site-packages/sklearn/metrics/classification.py:1135: UndefinedMetricWarning: F-score is ill-defined and being set to 0.0 in labels with no predicted samples.\n",
      "  'precision', 'predicted', average, warn_for)\n",
      "[Parallel(n_jobs=-1)]: Done  10 out of  10 | elapsed:    1.8s finished\n"
     ]
    },
    {
     "name": "stdout",
     "output_type": "stream",
     "text": [
      "The better metric according to the f1_macro metric is: GaussianNB\n"
     ]
    },
    {
     "name": "stderr",
     "output_type": "stream",
     "text": [
      "[Parallel(n_jobs=-1)]: Done  10 out of  10 | elapsed:    1.6s finished\n"
     ]
    }
   ],
   "source": [
    "# YOU ARE REQUIRED TO INSERT YOUR CODES IN THIS CELL\n",
    "\n",
    "# Write your code to compare the performance among non-parametric and probabilistic models.\n",
    "#     - Random Forest Classifier\n",
    "#     - K-NN Classifer\n",
    "#     - GaussianNB\n",
    "\n",
    "# [insert your code here]\n",
    "metrics = ['accuracy', 'precision_macro', 'recall_macro', 'f1_macro']\n",
    "random_forest_output_array = []\n",
    "knn_output_array = []\n",
    "gaussian_nb_output_array = []\n",
    "\n",
    "for i in range(0,4):\n",
    "    random_forest_output = ml_algorithm_screening_face(X=X,y=y,model=RandomForestClassifier(),\n",
    "            model_name=\"logistic\",scoring_metrics=metrics[i],pca_dim=max_dimension,n_runs=10)\n",
    "    knn_output = (ml_algorithm_screening_face(X=X,y=y,model=KNeighborsClassifier(),\n",
    "            model_name=\"lda\",scoring_metrics=metrics[i],pca_dim=max_dimension,n_runs=10))\n",
    "    gaussian_nb_output = (ml_algorithm_screening_face(X=X,y=y,model=GaussianNB(),\n",
    "            model_name=\"lda\",scoring_metrics=metrics[i],pca_dim=max_dimension,n_runs=10))\n",
    "    random_forest_output_array.append(random_forest_output.mean()) # can be used to print out results, if required\n",
    "    knn_output_array.append(knn_output.mean()) # can be used to print out results, if required\n",
    "    gaussian_nb_output_array.append(gaussian_nb_output.mean()) # can be used to print out results, if required\n",
    "    if (random_forest_output.mean() != knn_output.mean()) and (random_forest_output.mean() != gaussian_nb_output.mean()):\n",
    "        if (random_forest_output.mean() > knn_output.mean()) and (random_forest_output.mean() > gaussian_nb_output.mean()):\n",
    "            nonParametric_probabilistic_comparison_output = 'Random Forest Classifier'\n",
    "        elif (knn_output.mean() > random_forest_output.mean()) and (knn_output.mean() > gaussian_nb_output.mean()):\n",
    "            nonParametric_probabilistic_comparison_output = 'K-NN Classifier'\n",
    "        elif (gaussian_nb_output.mean() > random_forest_output.mean()) and (gaussian_nb_output.mean() > knn_output.mean()):\n",
    "            nonParametric_probabilistic_comparison_output = 'GaussianNB'\n",
    "        print('The better metric according to the '+metrics[i]+' metric is: '+nonParametric_probabilistic_comparison_output)\n",
    "    else:\n",
    "        print('In terms of metric '+metrics[i]+' all models are equal')"
   ]
  },
  {
   "cell_type": "markdown",
   "metadata": {},
   "source": [
    "<span style=\"color:red\">**Question 3.1**</span>.** Write a summary and report the performance of chosen models in terms of different metrics: precision, recall, accuracy, F-measure.**\n",
    "* Report the metrics of all methods in the following table, *bold* the best performance for each evaluation metrics (e.g., recall, precision, accuracy, F-measure)\n",
    "* Which model gives best performance in terms of accuarcy?\n",
    "* What are the lessions you have learned and conclusions you can made about this face recognition problem overall?\n",
    "    \n",
    "|   |Recall   | Precision  |  Accuracy |F-measure   |\n",
    "|---|---|---|---|---|\n",
    "|  Logistic Regression |0.7940891754263608|0.8167305393215532|0.8403508771929825|0.8007128356473412|\n",
    "|  LDA |**0.8246929390979882**|**0.8314398356200282**|**0.8596491228070174**|**0.8242768985490878**|\n",
    "|  SVM |0.2|0.09298245614035087|0.4649122807017544|0.12664032586611185|\n",
    "|  Neural Networks |0.6677402228620324|0.6594357328650572|0.7219298245614035|0.666080356257787|\n",
    "|  Random Forest |0.44012896964241016|0.576410085300731|0.6078947368421054|0.4527014673273525|\n",
    "|  K-NN |0.4880060766857432|0.5936555025417326|0.6350877192982456|0.4909418696831122|\n",
    "|  GaussianNB |0.721605694663128|0.7976397729212485|0.8008771929824562|0.7493865574772098| |\n",
    "\n",
    "<div style=\"text-align: right\"> <span style=\"color:red\">**[35 points]**</span> </div>"
   ]
  },
  {
   "cell_type": "markdown",
   "metadata": {},
   "source": [
    "The best performing model in terms of accuracy is Linear Discriminant Analysis (LDA).\n",
    "\n",
    "The lesson that I have learned is that the principal of parsimony stands true for this machine learning problem. The simplest solution, linear classification, produces the best result. I have also learned that it is impossible for an algorithm to predict the ouput correctly 100% of the time. Perphaps the algorithm can get very close given enough data to train on. "
   ]
  },
  {
   "cell_type": "markdown",
   "metadata": {},
   "source": [
    " **You might also like to write new codes for this question. Feel free to insert as many cells as needed below to complete your task.**"
   ]
  },
  {
   "cell_type": "markdown",
   "metadata": {},
   "source": [
    "---\n",
    "<div style=\"text-align: center\">**END OF ASSIGNMENT ONE**</div>"
   ]
  }
 ],
 "metadata": {
  "anaconda-cloud": {},
  "kernelspec": {
   "display_name": "Python 3",
   "language": "python",
   "name": "python3"
  },
  "language_info": {
   "codemirror_mode": {
    "name": "ipython",
    "version": 3
   },
   "file_extension": ".py",
   "mimetype": "text/x-python",
   "name": "python",
   "nbconvert_exporter": "python",
   "pygments_lexer": "ipython3",
   "version": "3.6.5"
  }
 },
 "nbformat": 4,
 "nbformat_minor": 2
}
