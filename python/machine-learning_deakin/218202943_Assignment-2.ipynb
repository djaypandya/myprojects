{
 "cells": [
  {
   "cell_type": "markdown",
   "metadata": {},
   "source": [
    "# SIT720 Assignment 2\n",
    "<p>*Student Name: Dhananjay Pandya*</p>\n",
    "*Student Number: 218202943*\n",
    "## All packages required for this assignment are as follows:"
   ]
  },
  {
   "cell_type": "code",
   "execution_count": 28,
   "metadata": {},
   "outputs": [],
   "source": [
    "import pandas as pd\n",
    "import numpy as np\n",
    "from sklearn.preprocessing import scale\n",
    "from sklearn.linear_model import LogisticRegression\n",
    "import matplotlib.pyplot as plt\n",
    "from sklearn.metrics import accuracy_score\n",
    "from sklearn.metrics import precision_score\n",
    "from sklearn.metrics import recall_score\n",
    "from sklearn.metrics import f1_score\n",
    "from sklearn.metrics import confusion_matrix\n",
    "from sklearn.metrics import classification_report\n",
    "from sklearn.model_selection import train_test_split\n",
    "from sklearn.linear_model import SGDClassifier\n",
    "from sklearn.multiclass import OneVsRestClassifier"
   ]
  },
  {
   "cell_type": "markdown",
   "metadata": {},
   "source": [
    "## Part 1: Binary Classification\n",
    "### 1.1: Data Munging\n",
    "Objectives: \n",
    "1. Read the training & testing data\n",
    "2. Print the number of features\n",
    "3. For the data label, print the number of 1's and 0's in the training and testing data\n",
    "4. Comment on the class distribution. Is it balanced or unbalanced?\n",
    "5. Print the number of features with missing entries\n",
    "6. Fill the missing entries. For filling any feature, you can use either mean or median value of the feature values from observed entries.\n",
    "7. Normalize the training and testing data."
   ]
  },
  {
   "cell_type": "code",
   "execution_count": 29,
   "metadata": {},
   "outputs": [],
   "source": [
    "# Objective 1: Read the training and testing data\n",
    "\n",
    "testWbcd = pd.read_csv('test_wbcd.csv',delimiter=\",\",header=0)\n",
    "trainWbcd = pd.read_csv('train_wbcd.csv',delimiter=\",\", header=0)"
   ]
  },
  {
   "cell_type": "code",
   "execution_count": 30,
   "metadata": {},
   "outputs": [
    {
     "name": "stdout",
     "output_type": "stream",
     "text": [
      "Total Number of Features: 30\n"
     ]
    }
   ],
   "source": [
    "# Objective 2: Print the number of features\n",
    "\n",
    "print('Total Number of Features: {}'.format(trainWbcd.shape[1]-2))"
   ]
  },
  {
   "cell_type": "markdown",
   "metadata": {},
   "source": [
    "<p>To complete objective 3 and 4, I first need to define what 1's and 0's are in this dataset. Upon inspection the original data labels are NOT 1's and 0's. Instead they are 'B' (benign) and 'M' (malignant).</p>\n",
    "<p>**For my assignment, I am assuming that 'B' is a 0 and 'M is a 1**</p>"
   ]
  },
  {
   "cell_type": "code",
   "execution_count": 31,
   "metadata": {},
   "outputs": [
    {
     "name": "stdout",
     "output_type": "stream",
     "text": [
      "Total Number of zeros in testing data: 14\n",
      "Total Number of ones in testing data: 6\n",
      "Total Number of zeros in training data: 58\n",
      "Total Number of ones in training data: 42\n"
     ]
    }
   ],
   "source": [
    "# Objective 3: For the data label, print the number of 1's and 0's in the training and testing data\n",
    "\n",
    "testBenign = 0\n",
    "testMalignant = 0\n",
    "\n",
    "for i in range(0,testWbcd.shape[0]):\n",
    "    if testWbcd.iloc[i,1]=='B':\n",
    "        testBenign = testBenign+1\n",
    "    elif testWbcd.iloc[i,1]=='M':\n",
    "        testMalignant = testMalignant+1\n",
    "        \n",
    "trainBenign = 0\n",
    "trainMalignant = 0\n",
    "\n",
    "for i in range(0,trainWbcd.shape[0]):\n",
    "    if trainWbcd.iloc[i,1]=='B':\n",
    "        trainBenign = trainBenign+1\n",
    "    elif trainWbcd.iloc[i,1]=='M':\n",
    "        trainMalignant = trainMalignant+1\n",
    "        \n",
    "print('Total Number of zeros in testing data: {}'.format(testBenign))\n",
    "print('Total Number of ones in testing data: {}'.format(testMalignant))\n",
    "\n",
    "print('Total Number of zeros in training data: {}'.format(trainBenign))\n",
    "print('Total Number of ones in training data: {}'.format(trainMalignant))"
   ]
  },
  {
   "cell_type": "markdown",
   "metadata": {},
   "source": [
    "**Objective 4: Comment on the class distribution. Is it balanced or unbalanced?**\n",
    "\n",
    "The concept of balanced and unbalanced class distribution apply to training data, because this is the data that the machine learns from. In this case the training data is balanced fairly well because the number of tuples with label 0 (benign) is roughly equal to the number of tuples with label 1 (malignant)."
   ]
  },
  {
   "cell_type": "code",
   "execution_count": 39,
   "metadata": {},
   "outputs": [
    {
     "name": "stdout",
     "output_type": "stream",
     "text": [
      "Number of features with missing entries in test data: 1\n",
      "Number of features with missing entries in train data: 1\n"
     ]
    }
   ],
   "source": [
    "# Objective 5: Print the number of features with missing entries\n",
    "\n",
    "count_test_missing = 0\n",
    "for i in range(0,testWbcd.shape[1]):\n",
    "    if (testWbcd.isnull().sum())[i]>0:\n",
    "        count_test_missing+=1\n",
    "\n",
    "count_train_missing = 0\n",
    "for i in range(0,trainWbcd.shape[1]):\n",
    "    if (trainWbcd.isnull().sum())[i]>0:\n",
    "        count_train_missing+=count_train_missing+1\n",
    "        \n",
    "print('Number of features with missing entries in test data: {}'.format(count_test_missing))\n",
    "print('Number of features with missing entries in train data: {}'.format(count_train_missing))"
   ]
  },
  {
   "cell_type": "markdown",
   "metadata": {},
   "source": [
    "**Objective 6: Fill the missing entries. For filling any feature, you can use either mean or median value of the feature values from observed entries.**\n",
    "\n",
    "First, we need to decide whether to use the mean or median value. For this, I am using histograms of each feature to understand the distribution of values."
   ]
  },
  {
   "cell_type": "code",
   "execution_count": 40,
   "metadata": {},
   "outputs": [
    {
     "name": "stdout",
     "output_type": "stream",
     "text": [
      "[[<matplotlib.axes._subplots.AxesSubplot object at 0x1a14d642b0>]]\n",
      "[[<matplotlib.axes._subplots.AxesSubplot object at 0x1a14c635f8>]]\n"
     ]
    },
    {
     "data": {
      "image/png": "[encoded data removed]",
      "text/plain": [
       "<Figure size 432x288 with 1 Axes>"
      ]
     },
     "metadata": {},
     "output_type": "display_data"
    },
    {
     "data": {
      "image/png": "[encoded data removed]",
      "text/plain": [
       "<Figure size 432x288 with 1 Axes>"
      ]
     },
     "metadata": {},
     "output_type": "display_data"
    }
   ],
   "source": [
    "for i in range(0,testWbcd.shape[1]):\n",
    "    if (testWbcd.isnull().sum())[i]>0:\n",
    "        print(testWbcd.hist(column=testWbcd.columns.values[i]))\n",
    "for i in range(0,trainWbcd.shape[1]):\n",
    "    if (trainWbcd.isnull().sum())[i]>0:\n",
    "        print(trainWbcd.hist(column=trainWbcd.columns.values[i]))"
   ]
  },
  {
   "cell_type": "markdown",
   "metadata": {},
   "source": [
    "Both distribution are skewed to the right. As a result, the mean is not a good measure of central tendency for this feature.\n",
    "\n",
    "*Therefore, I am using the median to replace null values for this feature in the training and testing dataset*"
   ]
  },
  {
   "cell_type": "code",
   "execution_count": 41,
   "metadata": {},
   "outputs": [],
   "source": [
    "val_to_replace_nan = 0\n",
    "for i in range(0,testWbcd.shape[1]):\n",
    "    if (testWbcd.isnull().sum())[i]>0:\n",
    "        val_to_replace_nan = testWbcd.iloc[:,i].median()\n",
    "        testWbcd.iloc[:,i].fillna(val_to_replace_nan, inplace=True)\n",
    "        \n",
    "for i in range(0,trainWbcd.shape[1]):\n",
    "    if (trainWbcd.isnull().sum())[i]>0:\n",
    "        val_to_replace_nan = trainWbcd.iloc[:,i].median()\n",
    "        trainWbcd.iloc[:,i].fillna(val_to_replace_nan, inplace=True)"
   ]
  },
  {
   "cell_type": "code",
   "execution_count": 42,
   "metadata": {},
   "outputs": [],
   "source": [
    "# Objective 7: Normalize the training and testing data\n",
    "\n",
    "# Replacing 'B' and 'M' with 0 and 1 prior to normalizing data\n",
    "testWbcd['Diagnosis'].replace(to_replace='B',value=0,inplace=True)\n",
    "testWbcd['Diagnosis'].replace(to_replace='M',value=1,inplace=True)   \n",
    "\n",
    "trainWbcd['Diagnosis'].replace(to_replace='B',value=0,inplace=True)\n",
    "trainWbcd['Diagnosis'].replace(to_replace='M',value=1,inplace=True)\n",
    "\n",
    "# Normalizing the data\n",
    "testNorm = scale(testWbcd.iloc[:,2:])\n",
    "trainNorm = scale(trainWbcd.iloc[:,2:])"
   ]
  },
  {
   "cell_type": "markdown",
   "metadata": {},
   "source": [
    "### 1.2: Logistic Regression\n",
    "Objective: Train logistic regression models with L1 regularization and L2 regularization using alpha = 0.1 and lambda = 0.1. Report accuracy, precision, recall, f1-score and print the confusion matrix."
   ]
  },
  {
   "cell_type": "code",
   "execution_count": 47,
   "metadata": {},
   "outputs": [
    {
     "name": "stdout",
     "output_type": "stream",
     "text": [
      "L1 Accuracy: 0.9\n",
      "L1 Precision: 0.8809523809523809\n",
      "L1 Recall: 0.8809523809523809\n",
      "L1 F1-Score: 0.8809523809523809\n",
      "L1 Confusion Matrix:\n",
      "[[13  1]\n",
      " [ 1  5]]\n",
      "L2 Accuracy: 0.9\n",
      "L2 Precision: 0.8809523809523809\n",
      "L2 Recall: 0.8809523809523809\n",
      "L2 F1-Score: 0.8809523809523809\n",
      "L2 Confusion Matrix:\n",
      "[[13  1]\n",
      " [ 1  5]]\n"
     ]
    }
   ],
   "source": [
    "alpha_val=0.1\n",
    "logistic_lasso = LogisticRegression(penalty='l1', C=1/alpha_val)\n",
    "logistic_lasso.fit(trainNorm,trainWbcd['Diagnosis'])\n",
    "logistic_lasso_predict = logistic_lasso.predict(testNorm)\n",
    "print(('L1 Accuracy: {}').format(accuracy_score(testWbcd['Diagnosis'],logistic_lasso_predict)))\n",
    "print(('L1 Precision: {}').format(precision_score(testWbcd['Diagnosis'],logistic_lasso_predict,average='macro')))\n",
    "print(('L1 Recall: {}').format(recall_score(testWbcd['Diagnosis'],logistic_lasso_predict,average='macro')))\n",
    "print(('L1 F1-Score: {}').format(f1_score(testWbcd['Diagnosis'],logistic_lasso_predict,average='macro')))\n",
    "print('L1 Confusion Matrix:')\n",
    "print(confusion_matrix(testWbcd['Diagnosis'],logistic_lasso_predict))\n",
    "\n",
    "lambda_val=0.1\n",
    "logistic_ridge = LogisticRegression(penalty='l2', C=1/lambda_val)\n",
    "logistic_ridge.fit(trainNorm,trainWbcd['Diagnosis'])\n",
    "logistic_ridge_predict = logistic_ridge.predict(testNorm)\n",
    "print(('L2 Accuracy: {}').format(accuracy_score(testWbcd['Diagnosis'],logistic_ridge_predict)))\n",
    "print(('L2 Precision: {}').format(precision_score(testWbcd['Diagnosis'],logistic_ridge_predict,average='macro')))\n",
    "print(('L2 Recall: {}').format(recall_score(testWbcd['Diagnosis'],logistic_ridge_predict,average='macro')))\n",
    "print(('L2 F1-Score: {}').format(f1_score(testWbcd['Diagnosis'],logistic_ridge_predict,average='macro')))\n",
    "print('L2 Confusion Matrix:')\n",
    "print(confusion_matrix(testWbcd['Diagnosis'],logistic_ridge_predict))"
   ]
  },
  {
   "cell_type": "markdown",
   "metadata": {},
   "source": [
    "### 1.2: Choosing the best hyperparameter\n",
    "Objectives:\n",
    "1. For L1 model, choose the best alpha value from the following set: {0.1,1,3,10,33,100,333,1000, 3333, 10000, 33333}.\n",
    "2. For L2 model, choose the best lambda value from the following set: {0.001, 0.003, 0.01, 0.03, 0.1,0.3,1,3,10,33}.\n",
    "3. Discuss if there is any sign of underfitting or overfitting with appropriate reasoning."
   ]
  },
  {
   "cell_type": "code",
   "execution_count": 48,
   "metadata": {},
   "outputs": [
    {
     "name": "stdout",
     "output_type": "stream",
     "text": [
      "L1 Accuracy: 0.8\n",
      "L1 Precision: 0.7708333333333333\n",
      "L1 Confusion Matrix:\n",
      "[[11  3]\n",
      " [ 1  5]]\n",
      "The best feature is: f22\n",
      "The 2nd best feature is: f23\n",
      "The 3rd best feature is: f24\n",
      "The 4th best feature is: f4\n",
      "The 5th best feature is: f5\n"
     ]
    }
   ],
   "source": [
    "# Objective 1: For L1 model, choose the best alpha value from the following set: {0.1,1,3,10,33,100,333,1000, 3333, 10000, 33333}.\n",
    "\n",
    "alpha_vals=[0.1,1,3,10,33,100,333,1000, 3333, 10000, 33333]\n",
    "predictors=list(trainWbcd.columns.values)[2:32]\n",
    "model_acc =0\n",
    "l1_acc=np.empty((len(alpha_vals),0))\n",
    "\n",
    "for a in alpha_vals:\n",
    "    for i in range(0,100):\n",
    "        train,test=train_test_split(trainWbcd,test_size=0.3)\n",
    "        enet = SGDClassifier(loss='log', penalty='l1', alpha=a, l1_ratio=1, max_iter=1000)\n",
    "        enet.fit(train[predictors],train['Diagnosis'].values.reshape((train['Diagnosis'].shape[0],)))\n",
    "        y_predict = enet.predict(test[predictors])\n",
    "        y_predict = np.reshape(y_predict,np.shape(test['Diagnosis']))\n",
    "        model_acc += accuracy_score(y_predict,test['Diagnosis'].values.reshape((test['Diagnosis'].shape[0],)))\n",
    "    model_acc /= 100\n",
    "    l1_acc=np.append(l1_acc,model_acc)\n",
    "    \n",
    "    if a==alpha_vals[len(alpha_vals)-1]:\n",
    "        max_index_l1 = np.argmax(l1_acc)\n",
    "        best_alpha = alpha_vals[max_index_l1]\n",
    "        logistic_lasso = LogisticRegression(penalty='l1', C=1/best_alpha)\n",
    "        logistic_lasso.fit(trainWbcd[predictors],trainWbcd['Diagnosis'])\n",
    "        logistic_lasso_predict = logistic_lasso.predict(testWbcd[predictors])\n",
    "        print(('L1 Accuracy: {}').format(accuracy_score(testWbcd['Diagnosis'],logistic_lasso_predict)))\n",
    "        print(('L1 Precision: {}').format(precision_score(testWbcd['Diagnosis'],logistic_lasso_predict,average='macro')))\n",
    "        print('L1 Confusion Matrix:')\n",
    "        print(confusion_matrix(testWbcd['Diagnosis'],logistic_lasso_predict))\n",
    "        coef = logistic_lasso.coef_\n",
    "        desc_coef = -np.sort(-coef)\n",
    "        print(('The best feature is: {}').format(predictors[(np.where(coef==desc_coef[:,0]))[1][0]]))\n",
    "        print(('The 2nd best feature is: {}').format(predictors[(np.where(coef==desc_coef[:,1]))[1][0]]))\n",
    "        print(('The 3rd best feature is: {}').format(predictors[(np.where(coef==desc_coef[:,2]))[1][0]]))\n",
    "        print(('The 4th best feature is: {}').format(predictors[(np.where(coef==desc_coef[:,3]))[1][0]]))\n",
    "        print(('The 5th best feature is: {}').format(predictors[(np.where(coef==desc_coef[:,4]))[1][0]]))"
   ]
  },
  {
   "cell_type": "code",
   "execution_count": 49,
   "metadata": {},
   "outputs": [
    {
     "name": "stdout",
     "output_type": "stream",
     "text": [
      "L2 Accuracy: 0.85\n",
      "L2 Precision: 0.8186813186813187\n",
      "L2 Confusion Matrix:\n",
      "[[12  2]\n",
      " [ 1  5]]\n",
      "The best feature is: f22\n",
      "The 2nd best feature is: f23\n",
      "The 3rd best feature is: f27\n",
      "The 4th best feature is: f26\n",
      "The 5th best feature is: f13\n"
     ]
    }
   ],
   "source": [
    "# Objective 2: For L2 model, choose the best lambda value from the following set: {0.001, 0.003, 0.01, 0.03, 0.1,0.3,1,3,10,33}.\n",
    "\n",
    "lambda_vals=[0.001, 0.003, 0.01, 0.03, 0.1,0.3,1,3,10,33]\n",
    "predictors=list(trainWbcd.columns.values)[2:32]\n",
    "model_acc =0\n",
    "l2_acc=np.empty((len(lambda_vals),0))\n",
    "\n",
    "for l in lambda_vals:\n",
    "    for i in range(0,100):\n",
    "        train,test=train_test_split(trainWbcd,test_size=0.3)\n",
    "        enet = SGDClassifier(loss='log', penalty='l2', alpha=l, l1_ratio=0, max_iter=1000)\n",
    "        enet.fit(train[predictors],train['Diagnosis'].values.reshape((train['Diagnosis'].shape[0],)))\n",
    "        y_predict = enet.predict(test[predictors])\n",
    "        y_predict = np.reshape(y_predict,np.shape(test['Diagnosis']))\n",
    "        model_acc += accuracy_score(y_predict,test['Diagnosis'].values.reshape((test['Diagnosis'].shape[0],)))\n",
    "    model_acc /= 100\n",
    "    l2_acc=np.append(l2_acc,model_acc)\n",
    "    \n",
    "    if l==lambda_vals[len(lambda_vals)-1]:\n",
    "        max_index_l2 = np.argmax(l2_acc)\n",
    "        best_lambda = lambda_vals[max_index_l2]\n",
    "        logistic_ridge = LogisticRegression(penalty='l2', C=1/best_lambda)\n",
    "        logistic_ridge.fit(trainWbcd[predictors],trainWbcd['Diagnosis'])\n",
    "        logistic_ridge_predict = logistic_ridge.predict(testWbcd[predictors])\n",
    "        print(('L2 Accuracy: {}').format(accuracy_score(testWbcd['Diagnosis'],logistic_ridge_predict)))\n",
    "        print(('L2 Precision: {}').format(precision_score(testWbcd['Diagnosis'],logistic_ridge_predict,average='macro')))\n",
    "        print('L2 Confusion Matrix:')\n",
    "        print(confusion_matrix(testWbcd['Diagnosis'],logistic_ridge_predict))\n",
    "        coef = logistic_ridge.coef_\n",
    "        desc_coef = -np.sort(-coef)\n",
    "        print(('The best feature is: {}').format(predictors[(np.where(coef==desc_coef[:,0]))[1][0]]))\n",
    "        print(('The 2nd best feature is: {}').format(predictors[(np.where(coef==desc_coef[:,1]))[1][0]]))\n",
    "        print(('The 3rd best feature is: {}').format(predictors[(np.where(coef==desc_coef[:,2]))[1][0]]))\n",
    "        print(('The 4th best feature is: {}').format(predictors[(np.where(coef==desc_coef[:,3]))[1][0]]))\n",
    "        print(('The 5th best feature is: {}').format(predictors[(np.where(coef==desc_coef[:,4]))[1][0]]))"
   ]
  },
  {
   "cell_type": "markdown",
   "metadata": {},
   "source": [
    "**Objective 3: Discuss if there is any sign of underfitting or overfitting with appropriate reasoning.**\n",
    "\n",
    "Overfitting and underfitting are performance issues in machine learning. It's important to consider whether the model is able to work with new data, as well as, with the data it was trained on. \n",
    "\n",
    "Overfitting occurs when the model learns the details and the noise. For both lasso (L1) and ridge (L2) logistic regression, my model performs fairly well (accuracies of 80% and 85%, respectively) on unseen data. Hence overfitting is not an issue here. \n",
    "\n",
    "Underfitting occurs when the model doesn't performn well on new data or on the data it was trained on. Since my L1 and L2 models perform well on unseen data, underfitting is not an issue here. "
   ]
  },
  {
   "cell_type": "markdown",
   "metadata": {},
   "source": [
    "## Part 2: Multiclass Classification\n",
    "### 2.1: Read and understand the data, create a default One-vs-Rest Classifier\n",
    "Objectives:\n",
    "1. Read data from the provided csv file. Print the following information:\n",
    "    * Number of data points\n",
    "    * Total number of features\n",
    "    * Unique labels in the data\n",
    "2. Split the data into 70% training data and 30% test data. Fit a One-vs-Rest Classifier (which uses Logistic regression classifier with alpha=1) on training data, and report accuracy, precision, recall on testing data."
   ]
  },
  {
   "cell_type": "code",
   "execution_count": 50,
   "metadata": {},
   "outputs": [
    {
     "name": "stdout",
     "output_type": "stream",
     "text": [
      "Number of data points: 1978200\n",
      "Total number of features: 784\n",
      "Unique labels in the data: 10\n"
     ]
    }
   ],
   "source": [
    "# Objective 1: Read data from the csv file provided and print number of data points, number of features and unique labels\n",
    "\n",
    "data = pd.read_csv('reduced_mnist.csv',delimiter=\",\",header=0)\n",
    "\n",
    "print('Number of data points: {}'.format(data.shape[0]*data.shape[1]))\n",
    "print('Total number of features: {}'.format(data.shape[1]-1))\n",
    "print('Unique labels in the data: {}'.format(data['label'].nunique()))"
   ]
  },
  {
   "cell_type": "code",
   "execution_count": 51,
   "metadata": {},
   "outputs": [
    {
     "name": "stdout",
     "output_type": "stream",
     "text": [
      "Accuracy: 0.832010582010582\n",
      "Precision: 0.8298588013919319\n",
      "Recall: 0.8284788830209118\n"
     ]
    }
   ],
   "source": [
    "# Objective 2: Split the data into 70% training data and 30% test data. Fit a One-vs-Rest Classifier (which uses Logistic regression classifier with alpha=1) on training data, and report accuracy, precision, recall on testing data.\n",
    "\n",
    "trainData, testData = train_test_split(data,test_size=0.3)\n",
    "alpha_val = 1\n",
    "classifier = OneVsRestClassifier(LogisticRegression(penalty='l1',C=1/alpha_val))\n",
    "classifier.fit(trainData.drop(['label'],axis=1),trainData['label'])\n",
    "prediction = classifier.predict(testData.drop(['label'],axis=1))\n",
    "print('Accuracy: {}'.format(accuracy_score(testData['label'],prediction)))\n",
    "print('Precision: {}'.format(precision_score(testData['label'],prediction,average='macro')))\n",
    "print('Recall: {}'.format(recall_score(testData['label'],prediction,average='macro')))"
   ]
  },
  {
   "cell_type": "markdown",
   "metadata": {},
   "source": [
    "## 2.2: Choosing the best hyper-parameter\n",
    "Objectives:\n",
    "\n",
    "1. As in section **1.3** above, now create 10 random splits of training data into training and validation data. Choose the best value of alpha from the following set: {0.1, 1, 3, 10, 33, 100, 333, 1000, 3333, 10000, 33333}.\n",
    "    * For each value of hyperparameter, perform 10 random splits of training data into training and validation data as said above. \n",
    "    * For each value of hyperparameter, use its 10 random splits and find the average training and validation accuracy.\n",
    "    * On a graph, plot both the average training accuracy (in red) and average validation accuracy (in blue) w.r.t. each hyperparameter setting. Comment on this graph by identifying regions of overfitting and underfitting. \n",
    "    * Print the best value of alpha hyperparameter.\n",
    "    \n",
    "    \n",
    "2. Evaluate the prediction performance on test data and report the following:\n",
    "\n",
    "    * Total number of non-zero features in the final model.\n",
    "    * The confusion matrix\n",
    "    * Precision, recall and accuracy for each class.\n",
    "    \n",
    "    \n",
    "3. Discuss if there is any sign of underfitting or overfitting with appropriate reasoning."
   ]
  },
  {
   "cell_type": "code",
   "execution_count": 56,
   "metadata": {
    "scrolled": true
   },
   "outputs": [
    {
     "data": {
      "image/png": "[encoded data removed]",
      "text/plain": [
       "<Figure size 432x288 with 1 Axes>"
      ]
     },
     "metadata": {},
     "output_type": "display_data"
    },
    {
     "name": "stdout",
     "output_type": "stream",
     "text": [
      "The best value of the hyperparameter is: 333\n"
     ]
    }
   ],
   "source": [
    "# Objective 1: As in section **1.3** above, now create 10 random splits of training data into training and validation data. Choose the best value of alpha from the following set: {0.1, 1, 3, 10, 33, 100, 333, 1000, 3333, 10000, 33333}.\n",
    "\n",
    "alpha_vals = [0.1, 1, 3, 10, 33, 100, 333, 1000, 3333, 10000, 33333]\n",
    "predictors = list(trainData.drop('label',axis=1).columns.values)\n",
    "model_acc = 0\n",
    "train_acc = 0\n",
    "l1_model_acc=np.empty((len(alpha_vals),0))\n",
    "l1_train_acc=np.empty((len(alpha_vals),0))\n",
    "for a in alpha_vals:\n",
    "    for i in range(0,10):\n",
    "        train,test=train_test_split(data,test_size=0.3)\n",
    "        classifier = OneVsRestClassifier(LogisticRegression(penalty='l1',C=1/a))\n",
    "        classifier.fit(train.drop(['label'],axis=1),train['label'])\n",
    "        selfPrediction = classifier.predict(train.drop(['label'],axis=1))\n",
    "        selfPrediction = np.reshape(selfPrediction,np.shape(train['label']))\n",
    "        prediction = classifier.predict(test.drop(['label'],axis=1))\n",
    "        prediction = np.reshape(prediction,np.shape(test['label']))\n",
    "        model_acc += accuracy_score(test['label'].values.reshape((test['label'].shape[0],)),prediction)\n",
    "        train_acc += accuracy_score(train['label'].values.reshape((train['label'].shape[0],)),selfPrediction)\n",
    "    model_acc /= 10\n",
    "    train_acc /= 10\n",
    "    l1_model_acc=np.append(l1_model_acc,model_acc)\n",
    "    if train_acc > 1.0:\n",
    "        train_acc = 1.0\n",
    "        l1_train_acc=np.append(l1_train_acc,train_acc)\n",
    "    else:\n",
    "        l1_train_acc=np.append(l1_train_acc,train_acc)\n",
    "\n",
    "plt.plot(range(0,len(alpha_vals)), l1_model_acc, color='b', label='Validation Accuracy')\n",
    "plt.plot(range(0,len(alpha_vals)), l1_train_acc, color='r', label='Training Accuracy')\n",
    "plt.xticks(range(0,len(alpha_vals)), alpha_vals, rotation='vertical')\n",
    "plt.title('Training Vs Validation Accuracy')\n",
    "axes = plt.gca()\n",
    "axes.set_ylim([0, 1.0])\n",
    "plt.legend(loc=\"lower left\")\n",
    "plt.show()\n",
    "\n",
    "print('The best value of the hyperparameter is: {}'.format(alpha_vals[np.argmax(l1_model_acc)]))"
   ]
  },
  {
   "cell_type": "markdown",
   "metadata": {},
   "source": [
    "**Comments on the graph 'Training Vs Validation Accuracy'**\n",
    "\n",
    "Overfitting occurs when the model learns the details and the noise. In the graph above, the region of overfitting occurs when the model does not perform well on unseen data even though it performs really well on training data. For my model, alpha values of 0.1 and 1 can be deemed as regions of overfitting. \n",
    "\n",
    "Underfitting occurs when the model doesn't performn well on new data or on the data it was trained on. The region of underfitting occurs when the model does not perform well on either unseen data or the training data. For my model, alpha values of 3333, 10000 and 33333 cause underfitting.  \n",
    "\n",
    "My model serves to highlight that cross-validation is invaluable for overfitting or underfitting. This is widely known across the industry and in academia."
   ]
  },
  {
   "cell_type": "code",
   "execution_count": 54,
   "metadata": {},
   "outputs": [
    {
     "name": "stdout",
     "output_type": "stream",
     "text": [
      "Total number of non-zero features: 378\n",
      "Confusion Matrix:\n",
      "[[79  0  0  1  0  0  1  0  1  0]\n",
      " [ 0 77  1  1  0  0  0  0  1  0]\n",
      " [ 1  2 76  0  1  1  4  1  8  0]\n",
      " [ 0  1  3 70  0  3  1  0  1  2]\n",
      " [ 1  1  0  0 55  0  1  0  2  7]\n",
      " [ 1  1  0  4  2 39  0  0  6  1]\n",
      " [ 3  1  1  0  1  0 68  0  0  0]\n",
      " [ 1  2  4  1  2  0  0 63  1  4]\n",
      " [ 0  5  1  3  1  4  1  0 57  1]\n",
      " [ 3  0  0  0  5  0  0  2  4 59]]\n",
      "             precision    recall  f1-score   support\n",
      "\n",
      "    Class 0       0.89      0.96      0.92        82\n",
      "    Class 1       0.86      0.96      0.91        80\n",
      "    Class 2       0.88      0.81      0.84        94\n",
      "    Class 3       0.88      0.86      0.87        81\n",
      "    Class 4       0.82      0.82      0.82        67\n",
      "    Class 5       0.83      0.72      0.77        54\n",
      "    Class 6       0.89      0.92      0.91        74\n",
      "    Class 7       0.95      0.81      0.88        78\n",
      "    Class 8       0.70      0.78      0.74        73\n",
      "    Class 9       0.80      0.81      0.80        73\n",
      "\n",
      "avg / total       0.85      0.85      0.85       756\n",
      "\n",
      "Accuracy of Class 0: 0.98\n",
      "Accuracy of Class 1: 0.98\n",
      "Accuracy of Class 2: 0.96\n",
      "Accuracy of Class 3: 0.97\n",
      "Accuracy of Class 4: 0.96\n",
      "Accuracy of Class 5: 0.97\n",
      "Accuracy of Class 6: 0.98\n",
      "Accuracy of Class 7: 0.97\n",
      "Accuracy of Class 8: 0.94\n",
      "Accuracy of Class 9: 0.96\n"
     ]
    }
   ],
   "source": [
    "# Objective 2: Evaluate the prediction performance on test data and report the requisite evaluation metrics\n",
    "\n",
    "max_index_l1 = np.argmax(l1_model_acc)\n",
    "best_alpha = alpha_vals[max_index_l1]\n",
    "classifier = OneVsRestClassifier(LogisticRegression(penalty='l1',C=1/best_alpha))\n",
    "classifier.fit(trainData.drop(['label'],axis=1),trainData['label'])\n",
    "classifier_predict = classifier.predict(testData.drop(['label'],axis=1))\n",
    "\n",
    "feature_coef = 0\n",
    "count_nonzero = 0\n",
    "for j in range(0,784):\n",
    "    for i in range(0,10):\n",
    "        feature_coef += classifier.estimators_[i].coef_[:,j]\n",
    "    if feature_coef != 0:\n",
    "        count_nonzero += 1\n",
    "    feature_coef = 0\n",
    "\n",
    "print('Total number of non-zero features: {}'.format(count_nonzero))\n",
    "confusionMatrix = confusion_matrix(testData['label'],classifier_predict)\n",
    "\n",
    "diagonalOfConfusionMatrix = np.diagonal(confusionMatrix)\n",
    "print('Confusion Matrix:')\n",
    "print(confusionMatrix)\n",
    "\n",
    "target_names=['Class 0','Class 1','Class 2','Class 3','Class 4','Class 5','Class 6','Class 7','Class 8','Class 9']\n",
    "print(classification_report(testData['label'],classifier_predict,target_names=target_names))\n",
    "\n",
    "for i in range(0,10):\n",
    "    print(('Accuracy of Class '+str(i)+': {}').format(round(np.sum(diagonalOfConfusionMatrix)/(np.sum(confusionMatrix[i])+np.sum(confusionMatrix[:,i])-(2*diagonalOfConfusionMatrix[i])+np.sum(diagonalOfConfusionMatrix)),2)))"
   ]
  },
  {
   "cell_type": "markdown",
   "metadata": {},
   "source": [
    "**Objective 3: Discuss if there is any sign of underfitting or overfitting with appropriate reasoning**\n",
    "\n",
    "My model does not show any signs of overfitting or underfitting. \n",
    "\n",
    "Overfitting occurs when the model learns the details and the noise. In my model, the prediction accuracies for each class are greater than 95% and the overall model accuracy is over 80%. This shows that my model has performed well on data that it had not seen prior to learning.\n",
    "\n",
    "Underfitting occurs when the model doesn't performn well on new data or on the data it was trained on. In my model, the training accuracy for the best alpha value is over 100% (see graph 'Training Vs Validation Accuracy') and the accuracy on the test data is over 80%. This shows that my model performs well on data it was trained on, whilst also performing well on unseen data."
   ]
  },
  {
   "cell_type": "markdown",
   "metadata": {},
   "source": [
    "---\n",
    "<div style=\"text-align: center\">**END OF ASSIGNMENT TWO**</div>"
   ]
  }
 ],
 "metadata": {
  "kernelspec": {
   "display_name": "Python 3",
   "language": "python",
   "name": "python3"
  },
  "language_info": {
   "codemirror_mode": {
    "name": "ipython",
    "version": 3
   },
   "file_extension": ".py",
   "mimetype": "text/x-python",
   "name": "python",
   "nbconvert_exporter": "python",
   "pygments_lexer": "ipython3",
   "version": "3.6.5"
  }
 },
 "nbformat": 4,
 "nbformat_minor": 2
}
